{
 "cells": [
  {
   "cell_type": "code",
   "execution_count": 1,
   "metadata": {},
   "outputs": [],
   "source": [
    "import numpy as np\n",
    "import pandas as pd\n",
    "from sklearn.model_selection import train_test_split\n",
    "import seaborn as sns\n",
    "import matplotlib.pyplot as plt\n",
    "\n",
    "import pandas as pd\n",
    "import numpy as np\n",
    "import matplotlib.pyplot as plt\n",
    "\n",
    "from sklearn.model_selection import train_test_split\n",
    "import nltk\n",
    "plt.style.use('ggplot')\n",
    "import warnings\n",
    "warnings.filterwarnings('ignore')"
   ]
  },
  {
   "cell_type": "code",
   "execution_count": 2,
   "metadata": {},
   "outputs": [],
   "source": [
    "videos_stats = pd.read_csv(\"videos-stats.csv\")\n",
    "comments = pd.read_csv(\"comments.csv\")"
   ]
  },
  {
   "cell_type": "code",
   "execution_count": 3,
   "metadata": {},
   "outputs": [],
   "source": [
    "videos_stats.drop_duplicates(subset='Video ID', ignore_index=True, inplace=True)\n",
    "\n",
    "\n",
    "videos_stats.drop(columns=\"Unnamed: 0\", inplace=True)\n",
    "comments.drop(columns=\"Unnamed: 0\", inplace=True)"
   ]
  },
  {
   "cell_type": "code",
   "execution_count": 4,
   "metadata": {},
   "outputs": [
    {
     "data": {
      "text/html": [
       "<div>\n",
       "<style scoped>\n",
       "    .dataframe tbody tr th:only-of-type {\n",
       "        vertical-align: middle;\n",
       "    }\n",
       "\n",
       "    .dataframe tbody tr th {\n",
       "        vertical-align: top;\n",
       "    }\n",
       "\n",
       "    .dataframe thead th {\n",
       "        text-align: right;\n",
       "    }\n",
       "</style>\n",
       "<table border=\"1\" class=\"dataframe\">\n",
       "  <thead>\n",
       "    <tr style=\"text-align: right;\">\n",
       "      <th></th>\n",
       "      <th>Video ID</th>\n",
       "      <th>Comment</th>\n",
       "      <th>Likes</th>\n",
       "      <th>Sentiment</th>\n",
       "    </tr>\n",
       "  </thead>\n",
       "  <tbody>\n",
       "    <tr>\n",
       "      <th>0</th>\n",
       "      <td>wAZZ-UWGVHI</td>\n",
       "      <td>Let's not forget that Apple Pay in 2014 requir...</td>\n",
       "      <td>95.0</td>\n",
       "      <td>1.0</td>\n",
       "    </tr>\n",
       "    <tr>\n",
       "      <th>1</th>\n",
       "      <td>wAZZ-UWGVHI</td>\n",
       "      <td>Here in NZ 50% of retailers don’t even have co...</td>\n",
       "      <td>19.0</td>\n",
       "      <td>0.0</td>\n",
       "    </tr>\n",
       "    <tr>\n",
       "      <th>2</th>\n",
       "      <td>wAZZ-UWGVHI</td>\n",
       "      <td>I will forever acknowledge this channel with t...</td>\n",
       "      <td>161.0</td>\n",
       "      <td>2.0</td>\n",
       "    </tr>\n",
       "    <tr>\n",
       "      <th>3</th>\n",
       "      <td>wAZZ-UWGVHI</td>\n",
       "      <td>Whenever I go to a place that doesn’t take App...</td>\n",
       "      <td>8.0</td>\n",
       "      <td>0.0</td>\n",
       "    </tr>\n",
       "    <tr>\n",
       "      <th>4</th>\n",
       "      <td>wAZZ-UWGVHI</td>\n",
       "      <td>Apple Pay is so convenient, secure, and easy t...</td>\n",
       "      <td>34.0</td>\n",
       "      <td>2.0</td>\n",
       "    </tr>\n",
       "  </tbody>\n",
       "</table>\n",
       "</div>"
      ],
      "text/plain": [
       "      Video ID                                            Comment  Likes  \\\n",
       "0  wAZZ-UWGVHI  Let's not forget that Apple Pay in 2014 requir...   95.0   \n",
       "1  wAZZ-UWGVHI  Here in NZ 50% of retailers don’t even have co...   19.0   \n",
       "2  wAZZ-UWGVHI  I will forever acknowledge this channel with t...  161.0   \n",
       "3  wAZZ-UWGVHI  Whenever I go to a place that doesn’t take App...    8.0   \n",
       "4  wAZZ-UWGVHI  Apple Pay is so convenient, secure, and easy t...   34.0   \n",
       "\n",
       "   Sentiment  \n",
       "0        1.0  \n",
       "1        0.0  \n",
       "2        2.0  \n",
       "3        0.0  \n",
       "4        2.0  "
      ]
     },
     "execution_count": 4,
     "metadata": {},
     "output_type": "execute_result"
    }
   ],
   "source": [
    "comments.head()"
   ]
  },
  {
   "cell_type": "code",
   "execution_count": 5,
   "metadata": {},
   "outputs": [],
   "source": [
    "comments=comments.drop(columns=['Likes'])"
   ]
  },
  {
   "cell_type": "code",
   "execution_count": 6,
   "metadata": {
    "scrolled": true
   },
   "outputs": [
    {
     "data": {
      "text/html": [
       "<div>\n",
       "<style scoped>\n",
       "    .dataframe tbody tr th:only-of-type {\n",
       "        vertical-align: middle;\n",
       "    }\n",
       "\n",
       "    .dataframe tbody tr th {\n",
       "        vertical-align: top;\n",
       "    }\n",
       "\n",
       "    .dataframe thead th {\n",
       "        text-align: right;\n",
       "    }\n",
       "</style>\n",
       "<table border=\"1\" class=\"dataframe\">\n",
       "  <thead>\n",
       "    <tr style=\"text-align: right;\">\n",
       "      <th></th>\n",
       "      <th>Title</th>\n",
       "      <th>Video ID</th>\n",
       "      <th>Published At</th>\n",
       "      <th>Keyword</th>\n",
       "      <th>Likes</th>\n",
       "      <th>Comments</th>\n",
       "      <th>Views</th>\n",
       "    </tr>\n",
       "  </thead>\n",
       "  <tbody>\n",
       "    <tr>\n",
       "      <th>0</th>\n",
       "      <td>Apple Pay Is Killing the Physical Wallet After...</td>\n",
       "      <td>wAZZ-UWGVHI</td>\n",
       "      <td>2022-08-23</td>\n",
       "      <td>tech</td>\n",
       "      <td>3407.0</td>\n",
       "      <td>672.0</td>\n",
       "      <td>135612.0</td>\n",
       "    </tr>\n",
       "    <tr>\n",
       "      <th>1</th>\n",
       "      <td>The most EXPENSIVE thing I own.</td>\n",
       "      <td>b3x28s61q3c</td>\n",
       "      <td>2022-08-24</td>\n",
       "      <td>tech</td>\n",
       "      <td>76779.0</td>\n",
       "      <td>4306.0</td>\n",
       "      <td>1758063.0</td>\n",
       "    </tr>\n",
       "    <tr>\n",
       "      <th>2</th>\n",
       "      <td>My New House Gaming Setup is SICK!</td>\n",
       "      <td>4mgePWWCAmA</td>\n",
       "      <td>2022-08-23</td>\n",
       "      <td>tech</td>\n",
       "      <td>63825.0</td>\n",
       "      <td>3338.0</td>\n",
       "      <td>1564007.0</td>\n",
       "    </tr>\n",
       "    <tr>\n",
       "      <th>3</th>\n",
       "      <td>Petrol Vs Liquid Nitrogen | Freezing Experimen...</td>\n",
       "      <td>kXiYSI7H2b0</td>\n",
       "      <td>2022-08-23</td>\n",
       "      <td>tech</td>\n",
       "      <td>71566.0</td>\n",
       "      <td>1426.0</td>\n",
       "      <td>922918.0</td>\n",
       "    </tr>\n",
       "    <tr>\n",
       "      <th>4</th>\n",
       "      <td>Best Back to School Tech 2022!</td>\n",
       "      <td>ErMwWXQxHp0</td>\n",
       "      <td>2022-08-08</td>\n",
       "      <td>tech</td>\n",
       "      <td>96513.0</td>\n",
       "      <td>5155.0</td>\n",
       "      <td>1855644.0</td>\n",
       "    </tr>\n",
       "  </tbody>\n",
       "</table>\n",
       "</div>"
      ],
      "text/plain": [
       "                                               Title     Video ID  \\\n",
       "0  Apple Pay Is Killing the Physical Wallet After...  wAZZ-UWGVHI   \n",
       "1                    The most EXPENSIVE thing I own.  b3x28s61q3c   \n",
       "2                 My New House Gaming Setup is SICK!  4mgePWWCAmA   \n",
       "3  Petrol Vs Liquid Nitrogen | Freezing Experimen...  kXiYSI7H2b0   \n",
       "4                     Best Back to School Tech 2022!  ErMwWXQxHp0   \n",
       "\n",
       "  Published At Keyword    Likes  Comments      Views  \n",
       "0   2022-08-23    tech   3407.0     672.0   135612.0  \n",
       "1   2022-08-24    tech  76779.0    4306.0  1758063.0  \n",
       "2   2022-08-23    tech  63825.0    3338.0  1564007.0  \n",
       "3   2022-08-23    tech  71566.0    1426.0   922918.0  \n",
       "4   2022-08-08    tech  96513.0    5155.0  1855644.0  "
      ]
     },
     "execution_count": 6,
     "metadata": {},
     "output_type": "execute_result"
    }
   ],
   "source": [
    "videos_stats.head()"
   ]
  },
  {
   "cell_type": "code",
   "execution_count": 7,
   "metadata": {},
   "outputs": [],
   "source": [
    "##show the density of data"
   ]
  },
  {
   "cell_type": "code",
   "execution_count": 8,
   "metadata": {
    "scrolled": true
   },
   "outputs": [
    {
     "data": {
      "image/png": "[encoded data removed]",
      "text/plain": [
       "<Figure size 432x288 with 1 Axes>"
      ]
     },
     "metadata": {},
     "output_type": "display_data"
    }
   ],
   "source": [
    "sns.distplot(videos_stats['Likes'])\n",
    "plt.show()"
   ]
  },
  {
   "cell_type": "code",
   "execution_count": 9,
   "metadata": {
    "scrolled": true
   },
   "outputs": [
    {
     "data": {
      "image/png": "[encoded data removed]",
      "text/plain": [
       "<Figure size 432x288 with 1 Axes>"
      ]
     },
     "metadata": {},
     "output_type": "display_data"
    }
   ],
   "source": [
    "sns.distplot(videos_stats['Views'])\n",
    "plt.show()"
   ]
  },
  {
   "cell_type": "code",
   "execution_count": 10,
   "metadata": {},
   "outputs": [],
   "source": [
    "##Delet invaid data"
   ]
  },
  {
   "cell_type": "code",
   "execution_count": 11,
   "metadata": {},
   "outputs": [],
   "source": [
    "comments=pd.merge(comments,videos_stats,on='Video ID')"
   ]
  },
  {
   "cell_type": "code",
   "execution_count": 12,
   "metadata": {},
   "outputs": [],
   "source": [
    "comments=comments.dropna()"
   ]
  },
  {
   "cell_type": "code",
   "execution_count": 13,
   "metadata": {},
   "outputs": [],
   "source": [
    "comments=comments.sample(len(comments))"
   ]
  },
  {
   "cell_type": "code",
   "execution_count": 14,
   "metadata": {},
   "outputs": [
    {
     "data": {
      "text/plain": [
       "Video ID        0\n",
       "Comment         0\n",
       "Sentiment       0\n",
       "Title           0\n",
       "Published At    0\n",
       "Keyword         0\n",
       "Likes           0\n",
       "Comments        0\n",
       "Views           0\n",
       "dtype: int64"
      ]
     },
     "execution_count": 14,
     "metadata": {},
     "output_type": "execute_result"
    }
   ],
   "source": [
    "comments.isnull().sum()"
   ]
  },
  {
   "cell_type": "code",
   "execution_count": 15,
   "metadata": {},
   "outputs": [],
   "source": [
    "comments.dropna(inplace=True)"
   ]
  },
  {
   "cell_type": "code",
   "execution_count": 16,
   "metadata": {},
   "outputs": [],
   "source": [
    "##process the embalanced data with Quadrature"
   ]
  },
  {
   "cell_type": "code",
   "execution_count": 17,
   "metadata": {},
   "outputs": [],
   "source": [
    "Q1=comments.quantile(0.25)\n",
    "Q3=comments.quantile(0.75)"
   ]
  },
  {
   "cell_type": "code",
   "execution_count": 18,
   "metadata": {},
   "outputs": [],
   "source": [
    "IQR=Q3-Q1\n",
    "comments=comments[~((comments<(Q1-1.5*IQR))|(comments>(Q3+1.5*IQR))).any(axis=1)]"
   ]
  },
  {
   "cell_type": "code",
   "execution_count": 19,
   "metadata": {},
   "outputs": [],
   "source": [
    "comments=comments[comments['Likes']>0]"
   ]
  },
  {
   "cell_type": "code",
   "execution_count": 20,
   "metadata": {},
   "outputs": [],
   "source": [
    "comments=comments[comments['Views']>0]"
   ]
  },
  {
   "cell_type": "code",
   "execution_count": 21,
   "metadata": {
    "scrolled": true
   },
   "outputs": [
    {
     "data": {
      "image/png": "[encoded data removed]",
      "text/plain": [
       "<Figure size 432x288 with 1 Axes>"
      ]
     },
     "metadata": {},
     "output_type": "display_data"
    }
   ],
   "source": [
    "sns.distplot(comments['Likes'])\n",
    "plt.show()"
   ]
  },
  {
   "cell_type": "code",
   "execution_count": 22,
   "metadata": {},
   "outputs": [
    {
     "data": {
      "image/png": "[encoded data removed]",
      "text/plain": [
       "<Figure size 432x288 with 1 Axes>"
      ]
     },
     "metadata": {},
     "output_type": "display_data"
    }
   ],
   "source": [
    "sns.distplot(comments['Views'])\n",
    "plt.show()"
   ]
  },
  {
   "cell_type": "code",
   "execution_count": 23,
   "metadata": {},
   "outputs": [],
   "source": [
    "##Text processing（remove the stopwords with nltk，and separat the world with \" \""
   ]
  },
  {
   "cell_type": "code",
   "execution_count": 24,
   "metadata": {},
   "outputs": [],
   "source": [
    "labels = np.array(comments['Sentiment'])\n",
    "comment = list(comments['Comment'])"
   ]
  },
  {
   "cell_type": "code",
   "execution_count": 25,
   "metadata": {},
   "outputs": [],
   "source": [
    "def filter_stopwords(sentences):\n",
    "    filtered_sentences = []\n",
    "    stopwords = nltk.corpus.stopwords.words('english')\n",
    "    for s in sentences:\n",
    "        filtered_sentence = [w for w in s.split() if w not in stopwords]\n",
    "        filtered_sentences.append(' '.join(filtered_sentence))\n",
    "    return filtered_sentences"
   ]
  },
  {
   "cell_type": "code",
   "execution_count": 26,
   "metadata": {},
   "outputs": [],
   "source": [
    "comment = filter_stopwords(comment)"
   ]
  },
  {
   "cell_type": "code",
   "execution_count": 27,
   "metadata": {},
   "outputs": [],
   "source": [
    "##set up the training set and test set"
   ]
  },
  {
   "cell_type": "code",
   "execution_count": 28,
   "metadata": {},
   "outputs": [],
   "source": [
    "##Take the first 10,000 data as the training set"
   ]
  },
  {
   "cell_type": "code",
   "execution_count": 29,
   "metadata": {},
   "outputs": [],
   "source": [
    "n=10000"
   ]
  },
  {
   "cell_type": "code",
   "execution_count": 30,
   "metadata": {},
   "outputs": [],
   "source": [
    "comment_test=comments.iloc[n:]"
   ]
  },
  {
   "cell_type": "code",
   "execution_count": 31,
   "metadata": {},
   "outputs": [],
   "source": [
    "comment_test.drop(columns=\"Sentiment\", inplace=True)"
   ]
  },
  {
   "cell_type": "code",
   "execution_count": 32,
   "metadata": {},
   "outputs": [],
   "source": [
    "X_train, X_test, Y_train, Y_test = comment[:n],comment[n:],labels[:n],labels[n:]"
   ]
  },
  {
   "cell_type": "code",
   "execution_count": 33,
   "metadata": {},
   "outputs": [],
   "source": [
    "##turn the text part into tfidf matrix"
   ]
  },
  {
   "cell_type": "code",
   "execution_count": 34,
   "metadata": {},
   "outputs": [],
   "source": [
    "from sklearn.feature_extraction.text import TfidfVectorizer\n",
    "tfidf_transformer = TfidfVectorizer()\n",
    "tf_train_data = tfidf_transformer.fit_transform(X_train)\n",
    "tf_docs_new = tfidf_transformer.transform(X_test)"
   ]
  },
  {
   "cell_type": "code",
   "execution_count": 35,
   "metadata": {},
   "outputs": [
    {
     "data": {
      "text/plain": [
       "<10000x25962 sparse matrix of type '<class 'numpy.float64'>'\n",
       "\twith 184625 stored elements in Compressed Sparse Row format>"
      ]
     },
     "execution_count": 35,
     "metadata": {},
     "output_type": "execute_result"
    }
   ],
   "source": [
    "tf_train_data"
   ]
  },
  {
   "cell_type": "code",
   "execution_count": 36,
   "metadata": {},
   "outputs": [],
   "source": [
    "##train data with RF"
   ]
  },
  {
   "cell_type": "code",
   "execution_count": 42,
   "metadata": {},
   "outputs": [],
   "source": [
    "from sklearn.ensemble import RandomForestClassifier\n",
    "clf = RandomForestClassifier()"
   ]
  },
  {
   "cell_type": "code",
   "execution_count": 43,
   "metadata": {},
   "outputs": [
    {
     "data": {
      "text/plain": [
       "RandomForestClassifier()"
      ]
     },
     "execution_count": 43,
     "metadata": {},
     "output_type": "execute_result"
    }
   ],
   "source": [
    "clf.fit(tf_train_data, Y_train)"
   ]
  },
  {
   "cell_type": "code",
   "execution_count": 44,
   "metadata": {},
   "outputs": [
    {
     "data": {
      "text/html": [
       "<div>\n",
       "<style scoped>\n",
       "    .dataframe tbody tr th:only-of-type {\n",
       "        vertical-align: middle;\n",
       "    }\n",
       "\n",
       "    .dataframe tbody tr th {\n",
       "        vertical-align: top;\n",
       "    }\n",
       "\n",
       "    .dataframe thead th {\n",
       "        text-align: right;\n",
       "    }\n",
       "</style>\n",
       "<table border=\"1\" class=\"dataframe\">\n",
       "  <thead>\n",
       "    <tr style=\"text-align: right;\">\n",
       "      <th></th>\n",
       "      <th>Video ID</th>\n",
       "      <th>Comment</th>\n",
       "      <th>Title</th>\n",
       "      <th>Published At</th>\n",
       "      <th>Keyword</th>\n",
       "      <th>Likes</th>\n",
       "      <th>Comments</th>\n",
       "      <th>Views</th>\n",
       "    </tr>\n",
       "  </thead>\n",
       "  <tbody>\n",
       "    <tr>\n",
       "      <th>1421</th>\n",
       "      <td>jzJW0gTYB9k</td>\n",
       "      <td>Ricardo was playing for Portugal on the Eurocu...</td>\n",
       "      <td>Impossible Sports Moments</td>\n",
       "      <td>2022-02-22</td>\n",
       "      <td>sports</td>\n",
       "      <td>22479.0</td>\n",
       "      <td>299.0</td>\n",
       "      <td>2020370.0</td>\n",
       "    </tr>\n",
       "    <tr>\n",
       "      <th>11037</th>\n",
       "      <td>7jUW96CiEKA</td>\n",
       "      <td>Documentaries of all kinds literally never fai...</td>\n",
       "      <td>Wild Life - Nature Documentary Full HD 1080p</td>\n",
       "      <td>2020-09-21</td>\n",
       "      <td>animals</td>\n",
       "      <td>9313.0</td>\n",
       "      <td>433.0</td>\n",
       "      <td>1722365.0</td>\n",
       "    </tr>\n",
       "    <tr>\n",
       "      <th>8302</th>\n",
       "      <td>6jvrAjL3JnA</td>\n",
       "      <td>Great content Celaine. Keep up the good work. 💯💯</td>\n",
       "      <td>ASMR ALIEN FULL BODY EXAM DETAILED Medical Rol...</td>\n",
       "      <td>2022-08-24</td>\n",
       "      <td>asmr</td>\n",
       "      <td>4512.0</td>\n",
       "      <td>349.0</td>\n",
       "      <td>116672.0</td>\n",
       "    </tr>\n",
       "    <tr>\n",
       "      <th>15817</th>\n",
       "      <td>60zVVNU_Jvw</td>\n",
       "      <td>\"Little does he know it takes an hour for full...</td>\n",
       "      <td>Reloading a Controller: Xbox vs. Playstation</td>\n",
       "      <td>2022-08-23</td>\n",
       "      <td>xbox</td>\n",
       "      <td>1781.0</td>\n",
       "      <td>66.0</td>\n",
       "      <td>33246.0</td>\n",
       "    </tr>\n",
       "    <tr>\n",
       "      <th>1757</th>\n",
       "      <td>RIbMoJouce8</td>\n",
       "      <td>“Correcting gods mistake one bullet at a time”...</td>\n",
       "      <td>How to Beat the SMART FISH in COLD SKIN</td>\n",
       "      <td>2022-08-23</td>\n",
       "      <td>how-to</td>\n",
       "      <td>14408.0</td>\n",
       "      <td>864.0</td>\n",
       "      <td>275924.0</td>\n",
       "    </tr>\n",
       "    <tr>\n",
       "      <th>...</th>\n",
       "      <td>...</td>\n",
       "      <td>...</td>\n",
       "      <td>...</td>\n",
       "      <td>...</td>\n",
       "      <td>...</td>\n",
       "      <td>...</td>\n",
       "      <td>...</td>\n",
       "      <td>...</td>\n",
       "    </tr>\n",
       "    <tr>\n",
       "      <th>16091</th>\n",
       "      <td>8Ltc-BfxBhY</td>\n",
       "      <td>Gorr น่าจะมีฟอร์ม 2แบบ ร่างปกติกับร่างพลังจากด...</td>\n",
       "      <td>Marvel Studios&amp;#39; Thor: Love and Thunder ธอร...</td>\n",
       "      <td>2022-05-24</td>\n",
       "      <td>marvel</td>\n",
       "      <td>8870.0</td>\n",
       "      <td>554.0</td>\n",
       "      <td>834400.0</td>\n",
       "    </tr>\n",
       "    <tr>\n",
       "      <th>10155</th>\n",
       "      <td>OOmBqTAp1TU</td>\n",
       "      <td>I liked that they showed Daemon crying at The ...</td>\n",
       "      <td>HOUSE OF THE DRAGON | EPISODE 1 THE HEIRS OF T...</td>\n",
       "      <td>2022-08-23</td>\n",
       "      <td>reaction</td>\n",
       "      <td>670.0</td>\n",
       "      <td>125.0</td>\n",
       "      <td>10451.0</td>\n",
       "    </tr>\n",
       "    <tr>\n",
       "      <th>15116</th>\n",
       "      <td>I0wIauQ0wMs</td>\n",
       "      <td>Well-worded and gracefully honest! It does lik...</td>\n",
       "      <td>We&amp;#39;ve Played Splatoon 3 - Is It Any Good?</td>\n",
       "      <td>2022-08-24</td>\n",
       "      <td>nintendo</td>\n",
       "      <td>2677.0</td>\n",
       "      <td>390.0</td>\n",
       "      <td>51017.0</td>\n",
       "    </tr>\n",
       "    <tr>\n",
       "      <th>14345</th>\n",
       "      <td>aXg3edeUrtc</td>\n",
       "      <td>Outstanding lecture. Interesting and fun. Than...</td>\n",
       "      <td>Physics experiments that changed the world – w...</td>\n",
       "      <td>2022-08-11</td>\n",
       "      <td>physics</td>\n",
       "      <td>2012.0</td>\n",
       "      <td>143.0</td>\n",
       "      <td>72517.0</td>\n",
       "    </tr>\n",
       "    <tr>\n",
       "      <th>10585</th>\n",
       "      <td>191wd4NscHo</td>\n",
       "      <td>Three things I LOVE about this channel: the lo...</td>\n",
       "      <td>Chill Night 🏡 Lofi Hip Hop Radio ~ Lofi Music ...</td>\n",
       "      <td>2022-08-08</td>\n",
       "      <td>lofi</td>\n",
       "      <td>3498.0</td>\n",
       "      <td>8.0</td>\n",
       "      <td>53592.0</td>\n",
       "    </tr>\n",
       "  </tbody>\n",
       "</table>\n",
       "<p>4484 rows × 8 columns</p>\n",
       "</div>"
      ],
      "text/plain": [
       "          Video ID                                            Comment  \\\n",
       "1421   jzJW0gTYB9k  Ricardo was playing for Portugal on the Eurocu...   \n",
       "11037  7jUW96CiEKA  Documentaries of all kinds literally never fai...   \n",
       "8302   6jvrAjL3JnA   Great content Celaine. Keep up the good work. 💯💯   \n",
       "15817  60zVVNU_Jvw  \"Little does he know it takes an hour for full...   \n",
       "1757   RIbMoJouce8  “Correcting gods mistake one bullet at a time”...   \n",
       "...            ...                                                ...   \n",
       "16091  8Ltc-BfxBhY  Gorr น่าจะมีฟอร์ม 2แบบ ร่างปกติกับร่างพลังจากด...   \n",
       "10155  OOmBqTAp1TU  I liked that they showed Daemon crying at The ...   \n",
       "15116  I0wIauQ0wMs  Well-worded and gracefully honest! It does lik...   \n",
       "14345  aXg3edeUrtc  Outstanding lecture. Interesting and fun. Than...   \n",
       "10585  191wd4NscHo  Three things I LOVE about this channel: the lo...   \n",
       "\n",
       "                                                   Title Published At  \\\n",
       "1421                           Impossible Sports Moments   2022-02-22   \n",
       "11037       Wild Life - Nature Documentary Full HD 1080p   2020-09-21   \n",
       "8302   ASMR ALIEN FULL BODY EXAM DETAILED Medical Rol...   2022-08-24   \n",
       "15817       Reloading a Controller: Xbox vs. Playstation   2022-08-23   \n",
       "1757             How to Beat the SMART FISH in COLD SKIN   2022-08-23   \n",
       "...                                                  ...          ...   \n",
       "16091  Marvel Studios&#39; Thor: Love and Thunder ธอร...   2022-05-24   \n",
       "10155  HOUSE OF THE DRAGON | EPISODE 1 THE HEIRS OF T...   2022-08-23   \n",
       "15116      We&#39;ve Played Splatoon 3 - Is It Any Good?   2022-08-24   \n",
       "14345  Physics experiments that changed the world – w...   2022-08-11   \n",
       "10585  Chill Night 🏡 Lofi Hip Hop Radio ~ Lofi Music ...   2022-08-08   \n",
       "\n",
       "        Keyword    Likes  Comments      Views  \n",
       "1421     sports  22479.0     299.0  2020370.0  \n",
       "11037   animals   9313.0     433.0  1722365.0  \n",
       "8302       asmr   4512.0     349.0   116672.0  \n",
       "15817      xbox   1781.0      66.0    33246.0  \n",
       "1757     how-to  14408.0     864.0   275924.0  \n",
       "...         ...      ...       ...        ...  \n",
       "16091    marvel   8870.0     554.0   834400.0  \n",
       "10155  reaction    670.0     125.0    10451.0  \n",
       "15116  nintendo   2677.0     390.0    51017.0  \n",
       "14345   physics   2012.0     143.0    72517.0  \n",
       "10585      lofi   3498.0       8.0    53592.0  \n",
       "\n",
       "[4484 rows x 8 columns]"
      ]
     },
     "execution_count": 44,
     "metadata": {},
     "output_type": "execute_result"
    }
   ],
   "source": [
    "comment_test"
   ]
  },
  {
   "cell_type": "code",
   "execution_count": 45,
   "metadata": {},
   "outputs": [],
   "source": [
    "acc=clf.score(tf_docs_new,Y_test)"
   ]
  },
  {
   "cell_type": "code",
   "execution_count": 46,
   "metadata": {},
   "outputs": [
    {
     "name": "stdout",
     "output_type": "stream",
     "text": [
      "0.7020517395182873\n"
     ]
    }
   ],
   "source": [
    "##print accuracy\n",
    "print(acc)"
   ]
  },
  {
   "cell_type": "code",
   "execution_count": 47,
   "metadata": {},
   "outputs": [],
   "source": [
    "##train data with MLP"
   ]
  },
  {
   "cell_type": "code",
   "execution_count": 48,
   "metadata": {},
   "outputs": [],
   "source": [
    "from sklearn.neural_network import MLPClassifier\n",
    "clf = MLPClassifier()"
   ]
  },
  {
   "cell_type": "code",
   "execution_count": 49,
   "metadata": {
    "scrolled": true
   },
   "outputs": [
    {
     "data": {
      "text/plain": [
       "MLPClassifier()"
      ]
     },
     "execution_count": 49,
     "metadata": {},
     "output_type": "execute_result"
    }
   ],
   "source": [
    "clf.fit(tf_train_data, Y_train)"
   ]
  },
  {
   "cell_type": "code",
   "execution_count": 50,
   "metadata": {},
   "outputs": [
    {
     "data": {
      "text/html": [
       "<div>\n",
       "<style scoped>\n",
       "    .dataframe tbody tr th:only-of-type {\n",
       "        vertical-align: middle;\n",
       "    }\n",
       "\n",
       "    .dataframe tbody tr th {\n",
       "        vertical-align: top;\n",
       "    }\n",
       "\n",
       "    .dataframe thead th {\n",
       "        text-align: right;\n",
       "    }\n",
       "</style>\n",
       "<table border=\"1\" class=\"dataframe\">\n",
       "  <thead>\n",
       "    <tr style=\"text-align: right;\">\n",
       "      <th></th>\n",
       "      <th>Video ID</th>\n",
       "      <th>Comment</th>\n",
       "      <th>Title</th>\n",
       "      <th>Published At</th>\n",
       "      <th>Keyword</th>\n",
       "      <th>Likes</th>\n",
       "      <th>Comments</th>\n",
       "      <th>Views</th>\n",
       "    </tr>\n",
       "  </thead>\n",
       "  <tbody>\n",
       "    <tr>\n",
       "      <th>1421</th>\n",
       "      <td>jzJW0gTYB9k</td>\n",
       "      <td>Ricardo was playing for Portugal on the Eurocu...</td>\n",
       "      <td>Impossible Sports Moments</td>\n",
       "      <td>2022-02-22</td>\n",
       "      <td>sports</td>\n",
       "      <td>22479.0</td>\n",
       "      <td>299.0</td>\n",
       "      <td>2020370.0</td>\n",
       "    </tr>\n",
       "    <tr>\n",
       "      <th>11037</th>\n",
       "      <td>7jUW96CiEKA</td>\n",
       "      <td>Documentaries of all kinds literally never fai...</td>\n",
       "      <td>Wild Life - Nature Documentary Full HD 1080p</td>\n",
       "      <td>2020-09-21</td>\n",
       "      <td>animals</td>\n",
       "      <td>9313.0</td>\n",
       "      <td>433.0</td>\n",
       "      <td>1722365.0</td>\n",
       "    </tr>\n",
       "    <tr>\n",
       "      <th>8302</th>\n",
       "      <td>6jvrAjL3JnA</td>\n",
       "      <td>Great content Celaine. Keep up the good work. 💯💯</td>\n",
       "      <td>ASMR ALIEN FULL BODY EXAM DETAILED Medical Rol...</td>\n",
       "      <td>2022-08-24</td>\n",
       "      <td>asmr</td>\n",
       "      <td>4512.0</td>\n",
       "      <td>349.0</td>\n",
       "      <td>116672.0</td>\n",
       "    </tr>\n",
       "    <tr>\n",
       "      <th>15817</th>\n",
       "      <td>60zVVNU_Jvw</td>\n",
       "      <td>\"Little does he know it takes an hour for full...</td>\n",
       "      <td>Reloading a Controller: Xbox vs. Playstation</td>\n",
       "      <td>2022-08-23</td>\n",
       "      <td>xbox</td>\n",
       "      <td>1781.0</td>\n",
       "      <td>66.0</td>\n",
       "      <td>33246.0</td>\n",
       "    </tr>\n",
       "    <tr>\n",
       "      <th>1757</th>\n",
       "      <td>RIbMoJouce8</td>\n",
       "      <td>“Correcting gods mistake one bullet at a time”...</td>\n",
       "      <td>How to Beat the SMART FISH in COLD SKIN</td>\n",
       "      <td>2022-08-23</td>\n",
       "      <td>how-to</td>\n",
       "      <td>14408.0</td>\n",
       "      <td>864.0</td>\n",
       "      <td>275924.0</td>\n",
       "    </tr>\n",
       "    <tr>\n",
       "      <th>...</th>\n",
       "      <td>...</td>\n",
       "      <td>...</td>\n",
       "      <td>...</td>\n",
       "      <td>...</td>\n",
       "      <td>...</td>\n",
       "      <td>...</td>\n",
       "      <td>...</td>\n",
       "      <td>...</td>\n",
       "    </tr>\n",
       "    <tr>\n",
       "      <th>16091</th>\n",
       "      <td>8Ltc-BfxBhY</td>\n",
       "      <td>Gorr น่าจะมีฟอร์ม 2แบบ ร่างปกติกับร่างพลังจากด...</td>\n",
       "      <td>Marvel Studios&amp;#39; Thor: Love and Thunder ธอร...</td>\n",
       "      <td>2022-05-24</td>\n",
       "      <td>marvel</td>\n",
       "      <td>8870.0</td>\n",
       "      <td>554.0</td>\n",
       "      <td>834400.0</td>\n",
       "    </tr>\n",
       "    <tr>\n",
       "      <th>10155</th>\n",
       "      <td>OOmBqTAp1TU</td>\n",
       "      <td>I liked that they showed Daemon crying at The ...</td>\n",
       "      <td>HOUSE OF THE DRAGON | EPISODE 1 THE HEIRS OF T...</td>\n",
       "      <td>2022-08-23</td>\n",
       "      <td>reaction</td>\n",
       "      <td>670.0</td>\n",
       "      <td>125.0</td>\n",
       "      <td>10451.0</td>\n",
       "    </tr>\n",
       "    <tr>\n",
       "      <th>15116</th>\n",
       "      <td>I0wIauQ0wMs</td>\n",
       "      <td>Well-worded and gracefully honest! It does lik...</td>\n",
       "      <td>We&amp;#39;ve Played Splatoon 3 - Is It Any Good?</td>\n",
       "      <td>2022-08-24</td>\n",
       "      <td>nintendo</td>\n",
       "      <td>2677.0</td>\n",
       "      <td>390.0</td>\n",
       "      <td>51017.0</td>\n",
       "    </tr>\n",
       "    <tr>\n",
       "      <th>14345</th>\n",
       "      <td>aXg3edeUrtc</td>\n",
       "      <td>Outstanding lecture. Interesting and fun. Than...</td>\n",
       "      <td>Physics experiments that changed the world – w...</td>\n",
       "      <td>2022-08-11</td>\n",
       "      <td>physics</td>\n",
       "      <td>2012.0</td>\n",
       "      <td>143.0</td>\n",
       "      <td>72517.0</td>\n",
       "    </tr>\n",
       "    <tr>\n",
       "      <th>10585</th>\n",
       "      <td>191wd4NscHo</td>\n",
       "      <td>Three things I LOVE about this channel: the lo...</td>\n",
       "      <td>Chill Night 🏡 Lofi Hip Hop Radio ~ Lofi Music ...</td>\n",
       "      <td>2022-08-08</td>\n",
       "      <td>lofi</td>\n",
       "      <td>3498.0</td>\n",
       "      <td>8.0</td>\n",
       "      <td>53592.0</td>\n",
       "    </tr>\n",
       "  </tbody>\n",
       "</table>\n",
       "<p>4484 rows × 8 columns</p>\n",
       "</div>"
      ],
      "text/plain": [
       "          Video ID                                            Comment  \\\n",
       "1421   jzJW0gTYB9k  Ricardo was playing for Portugal on the Eurocu...   \n",
       "11037  7jUW96CiEKA  Documentaries of all kinds literally never fai...   \n",
       "8302   6jvrAjL3JnA   Great content Celaine. Keep up the good work. 💯💯   \n",
       "15817  60zVVNU_Jvw  \"Little does he know it takes an hour for full...   \n",
       "1757   RIbMoJouce8  “Correcting gods mistake one bullet at a time”...   \n",
       "...            ...                                                ...   \n",
       "16091  8Ltc-BfxBhY  Gorr น่าจะมีฟอร์ม 2แบบ ร่างปกติกับร่างพลังจากด...   \n",
       "10155  OOmBqTAp1TU  I liked that they showed Daemon crying at The ...   \n",
       "15116  I0wIauQ0wMs  Well-worded and gracefully honest! It does lik...   \n",
       "14345  aXg3edeUrtc  Outstanding lecture. Interesting and fun. Than...   \n",
       "10585  191wd4NscHo  Three things I LOVE about this channel: the lo...   \n",
       "\n",
       "                                                   Title Published At  \\\n",
       "1421                           Impossible Sports Moments   2022-02-22   \n",
       "11037       Wild Life - Nature Documentary Full HD 1080p   2020-09-21   \n",
       "8302   ASMR ALIEN FULL BODY EXAM DETAILED Medical Rol...   2022-08-24   \n",
       "15817       Reloading a Controller: Xbox vs. Playstation   2022-08-23   \n",
       "1757             How to Beat the SMART FISH in COLD SKIN   2022-08-23   \n",
       "...                                                  ...          ...   \n",
       "16091  Marvel Studios&#39; Thor: Love and Thunder ธอร...   2022-05-24   \n",
       "10155  HOUSE OF THE DRAGON | EPISODE 1 THE HEIRS OF T...   2022-08-23   \n",
       "15116      We&#39;ve Played Splatoon 3 - Is It Any Good?   2022-08-24   \n",
       "14345  Physics experiments that changed the world – w...   2022-08-11   \n",
       "10585  Chill Night 🏡 Lofi Hip Hop Radio ~ Lofi Music ...   2022-08-08   \n",
       "\n",
       "        Keyword    Likes  Comments      Views  \n",
       "1421     sports  22479.0     299.0  2020370.0  \n",
       "11037   animals   9313.0     433.0  1722365.0  \n",
       "8302       asmr   4512.0     349.0   116672.0  \n",
       "15817      xbox   1781.0      66.0    33246.0  \n",
       "1757     how-to  14408.0     864.0   275924.0  \n",
       "...         ...      ...       ...        ...  \n",
       "16091    marvel   8870.0     554.0   834400.0  \n",
       "10155  reaction    670.0     125.0    10451.0  \n",
       "15116  nintendo   2677.0     390.0    51017.0  \n",
       "14345   physics   2012.0     143.0    72517.0  \n",
       "10585      lofi   3498.0       8.0    53592.0  \n",
       "\n",
       "[4484 rows x 8 columns]"
      ]
     },
     "execution_count": 50,
     "metadata": {},
     "output_type": "execute_result"
    }
   ],
   "source": [
    "comment_test"
   ]
  },
  {
   "cell_type": "code",
   "execution_count": 51,
   "metadata": {},
   "outputs": [],
   "source": [
    "acc=clf.score(tf_docs_new,Y_test)"
   ]
  },
  {
   "cell_type": "code",
   "execution_count": 52,
   "metadata": {},
   "outputs": [],
   "source": [
    "##print accuracy"
   ]
  },
  {
   "cell_type": "code",
   "execution_count": 53,
   "metadata": {
    "scrolled": false
   },
   "outputs": [
    {
     "name": "stdout",
     "output_type": "stream",
     "text": [
      "0.7305976806422837\n"
     ]
    }
   ],
   "source": [
    "print(acc)"
   ]
  },
  {
   "cell_type": "code",
   "execution_count": 54,
   "metadata": {},
   "outputs": [],
   "source": [
    "ypre=clf.predict(tf_docs_new)"
   ]
  },
  {
   "cell_type": "code",
   "execution_count": 55,
   "metadata": {},
   "outputs": [],
   "source": [
    "comment_test['Sentiment']=ypre"
   ]
  },
  {
   "cell_type": "code",
   "execution_count": 56,
   "metadata": {},
   "outputs": [
    {
     "data": {
      "text/html": [
       "<div>\n",
       "<style scoped>\n",
       "    .dataframe tbody tr th:only-of-type {\n",
       "        vertical-align: middle;\n",
       "    }\n",
       "\n",
       "    .dataframe tbody tr th {\n",
       "        vertical-align: top;\n",
       "    }\n",
       "\n",
       "    .dataframe thead th {\n",
       "        text-align: right;\n",
       "    }\n",
       "</style>\n",
       "<table border=\"1\" class=\"dataframe\">\n",
       "  <thead>\n",
       "    <tr style=\"text-align: right;\">\n",
       "      <th></th>\n",
       "      <th>Video ID</th>\n",
       "      <th>Comment</th>\n",
       "      <th>Title</th>\n",
       "      <th>Published At</th>\n",
       "      <th>Keyword</th>\n",
       "      <th>Likes</th>\n",
       "      <th>Comments</th>\n",
       "      <th>Views</th>\n",
       "      <th>Sentiment</th>\n",
       "    </tr>\n",
       "  </thead>\n",
       "  <tbody>\n",
       "    <tr>\n",
       "      <th>1421</th>\n",
       "      <td>jzJW0gTYB9k</td>\n",
       "      <td>Ricardo was playing for Portugal on the Eurocu...</td>\n",
       "      <td>Impossible Sports Moments</td>\n",
       "      <td>2022-02-22</td>\n",
       "      <td>sports</td>\n",
       "      <td>22479.0</td>\n",
       "      <td>299.0</td>\n",
       "      <td>2020370.0</td>\n",
       "      <td>2.0</td>\n",
       "    </tr>\n",
       "    <tr>\n",
       "      <th>11037</th>\n",
       "      <td>7jUW96CiEKA</td>\n",
       "      <td>Documentaries of all kinds literally never fai...</td>\n",
       "      <td>Wild Life - Nature Documentary Full HD 1080p</td>\n",
       "      <td>2020-09-21</td>\n",
       "      <td>animals</td>\n",
       "      <td>9313.0</td>\n",
       "      <td>433.0</td>\n",
       "      <td>1722365.0</td>\n",
       "      <td>2.0</td>\n",
       "    </tr>\n",
       "    <tr>\n",
       "      <th>8302</th>\n",
       "      <td>6jvrAjL3JnA</td>\n",
       "      <td>Great content Celaine. Keep up the good work. 💯💯</td>\n",
       "      <td>ASMR ALIEN FULL BODY EXAM DETAILED Medical Rol...</td>\n",
       "      <td>2022-08-24</td>\n",
       "      <td>asmr</td>\n",
       "      <td>4512.0</td>\n",
       "      <td>349.0</td>\n",
       "      <td>116672.0</td>\n",
       "      <td>2.0</td>\n",
       "    </tr>\n",
       "    <tr>\n",
       "      <th>15817</th>\n",
       "      <td>60zVVNU_Jvw</td>\n",
       "      <td>\"Little does he know it takes an hour for full...</td>\n",
       "      <td>Reloading a Controller: Xbox vs. Playstation</td>\n",
       "      <td>2022-08-23</td>\n",
       "      <td>xbox</td>\n",
       "      <td>1781.0</td>\n",
       "      <td>66.0</td>\n",
       "      <td>33246.0</td>\n",
       "      <td>1.0</td>\n",
       "    </tr>\n",
       "    <tr>\n",
       "      <th>1757</th>\n",
       "      <td>RIbMoJouce8</td>\n",
       "      <td>“Correcting gods mistake one bullet at a time”...</td>\n",
       "      <td>How to Beat the SMART FISH in COLD SKIN</td>\n",
       "      <td>2022-08-23</td>\n",
       "      <td>how-to</td>\n",
       "      <td>14408.0</td>\n",
       "      <td>864.0</td>\n",
       "      <td>275924.0</td>\n",
       "      <td>2.0</td>\n",
       "    </tr>\n",
       "    <tr>\n",
       "      <th>...</th>\n",
       "      <td>...</td>\n",
       "      <td>...</td>\n",
       "      <td>...</td>\n",
       "      <td>...</td>\n",
       "      <td>...</td>\n",
       "      <td>...</td>\n",
       "      <td>...</td>\n",
       "      <td>...</td>\n",
       "      <td>...</td>\n",
       "    </tr>\n",
       "    <tr>\n",
       "      <th>16091</th>\n",
       "      <td>8Ltc-BfxBhY</td>\n",
       "      <td>Gorr น่าจะมีฟอร์ม 2แบบ ร่างปกติกับร่างพลังจากด...</td>\n",
       "      <td>Marvel Studios&amp;#39; Thor: Love and Thunder ธอร...</td>\n",
       "      <td>2022-05-24</td>\n",
       "      <td>marvel</td>\n",
       "      <td>8870.0</td>\n",
       "      <td>554.0</td>\n",
       "      <td>834400.0</td>\n",
       "      <td>2.0</td>\n",
       "    </tr>\n",
       "    <tr>\n",
       "      <th>10155</th>\n",
       "      <td>OOmBqTAp1TU</td>\n",
       "      <td>I liked that they showed Daemon crying at The ...</td>\n",
       "      <td>HOUSE OF THE DRAGON | EPISODE 1 THE HEIRS OF T...</td>\n",
       "      <td>2022-08-23</td>\n",
       "      <td>reaction</td>\n",
       "      <td>670.0</td>\n",
       "      <td>125.0</td>\n",
       "      <td>10451.0</td>\n",
       "      <td>2.0</td>\n",
       "    </tr>\n",
       "    <tr>\n",
       "      <th>15116</th>\n",
       "      <td>I0wIauQ0wMs</td>\n",
       "      <td>Well-worded and gracefully honest! It does lik...</td>\n",
       "      <td>We&amp;#39;ve Played Splatoon 3 - Is It Any Good?</td>\n",
       "      <td>2022-08-24</td>\n",
       "      <td>nintendo</td>\n",
       "      <td>2677.0</td>\n",
       "      <td>390.0</td>\n",
       "      <td>51017.0</td>\n",
       "      <td>2.0</td>\n",
       "    </tr>\n",
       "    <tr>\n",
       "      <th>14345</th>\n",
       "      <td>aXg3edeUrtc</td>\n",
       "      <td>Outstanding lecture. Interesting and fun. Than...</td>\n",
       "      <td>Physics experiments that changed the world – w...</td>\n",
       "      <td>2022-08-11</td>\n",
       "      <td>physics</td>\n",
       "      <td>2012.0</td>\n",
       "      <td>143.0</td>\n",
       "      <td>72517.0</td>\n",
       "      <td>2.0</td>\n",
       "    </tr>\n",
       "    <tr>\n",
       "      <th>10585</th>\n",
       "      <td>191wd4NscHo</td>\n",
       "      <td>Three things I LOVE about this channel: the lo...</td>\n",
       "      <td>Chill Night 🏡 Lofi Hip Hop Radio ~ Lofi Music ...</td>\n",
       "      <td>2022-08-08</td>\n",
       "      <td>lofi</td>\n",
       "      <td>3498.0</td>\n",
       "      <td>8.0</td>\n",
       "      <td>53592.0</td>\n",
       "      <td>2.0</td>\n",
       "    </tr>\n",
       "  </tbody>\n",
       "</table>\n",
       "<p>4484 rows × 9 columns</p>\n",
       "</div>"
      ],
      "text/plain": [
       "          Video ID                                            Comment  \\\n",
       "1421   jzJW0gTYB9k  Ricardo was playing for Portugal on the Eurocu...   \n",
       "11037  7jUW96CiEKA  Documentaries of all kinds literally never fai...   \n",
       "8302   6jvrAjL3JnA   Great content Celaine. Keep up the good work. 💯💯   \n",
       "15817  60zVVNU_Jvw  \"Little does he know it takes an hour for full...   \n",
       "1757   RIbMoJouce8  “Correcting gods mistake one bullet at a time”...   \n",
       "...            ...                                                ...   \n",
       "16091  8Ltc-BfxBhY  Gorr น่าจะมีฟอร์ม 2แบบ ร่างปกติกับร่างพลังจากด...   \n",
       "10155  OOmBqTAp1TU  I liked that they showed Daemon crying at The ...   \n",
       "15116  I0wIauQ0wMs  Well-worded and gracefully honest! It does lik...   \n",
       "14345  aXg3edeUrtc  Outstanding lecture. Interesting and fun. Than...   \n",
       "10585  191wd4NscHo  Three things I LOVE about this channel: the lo...   \n",
       "\n",
       "                                                   Title Published At  \\\n",
       "1421                           Impossible Sports Moments   2022-02-22   \n",
       "11037       Wild Life - Nature Documentary Full HD 1080p   2020-09-21   \n",
       "8302   ASMR ALIEN FULL BODY EXAM DETAILED Medical Rol...   2022-08-24   \n",
       "15817       Reloading a Controller: Xbox vs. Playstation   2022-08-23   \n",
       "1757             How to Beat the SMART FISH in COLD SKIN   2022-08-23   \n",
       "...                                                  ...          ...   \n",
       "16091  Marvel Studios&#39; Thor: Love and Thunder ธอร...   2022-05-24   \n",
       "10155  HOUSE OF THE DRAGON | EPISODE 1 THE HEIRS OF T...   2022-08-23   \n",
       "15116      We&#39;ve Played Splatoon 3 - Is It Any Good?   2022-08-24   \n",
       "14345  Physics experiments that changed the world – w...   2022-08-11   \n",
       "10585  Chill Night 🏡 Lofi Hip Hop Radio ~ Lofi Music ...   2022-08-08   \n",
       "\n",
       "        Keyword    Likes  Comments      Views  Sentiment  \n",
       "1421     sports  22479.0     299.0  2020370.0        2.0  \n",
       "11037   animals   9313.0     433.0  1722365.0        2.0  \n",
       "8302       asmr   4512.0     349.0   116672.0        2.0  \n",
       "15817      xbox   1781.0      66.0    33246.0        1.0  \n",
       "1757     how-to  14408.0     864.0   275924.0        2.0  \n",
       "...         ...      ...       ...        ...        ...  \n",
       "16091    marvel   8870.0     554.0   834400.0        2.0  \n",
       "10155  reaction    670.0     125.0    10451.0        2.0  \n",
       "15116  nintendo   2677.0     390.0    51017.0        2.0  \n",
       "14345   physics   2012.0     143.0    72517.0        2.0  \n",
       "10585      lofi   3498.0       8.0    53592.0        2.0  \n",
       "\n",
       "[4484 rows x 9 columns]"
      ]
     },
     "execution_count": 56,
     "metadata": {},
     "output_type": "execute_result"
    }
   ],
   "source": [
    "comment_test"
   ]
  },
  {
   "cell_type": "code",
   "execution_count": 57,
   "metadata": {},
   "outputs": [],
   "source": [
    "res=comment_test.groupby('Video ID')['Likes','Views','Sentiment'].agg(['mean'])"
   ]
  },
  {
   "cell_type": "code",
   "execution_count": 58,
   "metadata": {},
   "outputs": [
    {
     "data": {
      "text/html": [
       "<div>\n",
       "<style scoped>\n",
       "    .dataframe tbody tr th:only-of-type {\n",
       "        vertical-align: middle;\n",
       "    }\n",
       "\n",
       "    .dataframe tbody tr th {\n",
       "        vertical-align: top;\n",
       "    }\n",
       "\n",
       "    .dataframe thead tr th {\n",
       "        text-align: left;\n",
       "    }\n",
       "\n",
       "    .dataframe thead tr:last-of-type th {\n",
       "        text-align: right;\n",
       "    }\n",
       "</style>\n",
       "<table border=\"1\" class=\"dataframe\">\n",
       "  <thead>\n",
       "    <tr>\n",
       "      <th></th>\n",
       "      <th>Likes</th>\n",
       "      <th>Views</th>\n",
       "      <th>Sentiment</th>\n",
       "    </tr>\n",
       "    <tr>\n",
       "      <th></th>\n",
       "      <th>mean</th>\n",
       "      <th>mean</th>\n",
       "      <th>mean</th>\n",
       "    </tr>\n",
       "    <tr>\n",
       "      <th>Video ID</th>\n",
       "      <th></th>\n",
       "      <th></th>\n",
       "      <th></th>\n",
       "    </tr>\n",
       "  </thead>\n",
       "  <tbody>\n",
       "    <tr>\n",
       "      <th>--hxd1CrOqg</th>\n",
       "      <td>6379.0</td>\n",
       "      <td>808787.0</td>\n",
       "      <td>0.000000</td>\n",
       "    </tr>\n",
       "    <tr>\n",
       "      <th>--ixiTypG8g</th>\n",
       "      <td>1029.0</td>\n",
       "      <td>97434.0</td>\n",
       "      <td>0.833333</td>\n",
       "    </tr>\n",
       "    <tr>\n",
       "      <th>-6IgkG5yZfo</th>\n",
       "      <td>10959.0</td>\n",
       "      <td>844015.0</td>\n",
       "      <td>1.500000</td>\n",
       "    </tr>\n",
       "    <tr>\n",
       "      <th>-7hzaGya86g</th>\n",
       "      <td>18957.0</td>\n",
       "      <td>702174.0</td>\n",
       "      <td>1.666667</td>\n",
       "    </tr>\n",
       "    <tr>\n",
       "      <th>-8TnsjDRXUE</th>\n",
       "      <td>3232.0</td>\n",
       "      <td>188875.0</td>\n",
       "      <td>2.000000</td>\n",
       "    </tr>\n",
       "    <tr>\n",
       "      <th>...</th>\n",
       "      <td>...</td>\n",
       "      <td>...</td>\n",
       "      <td>...</td>\n",
       "    </tr>\n",
       "    <tr>\n",
       "      <th>zhUnEg0he4A</th>\n",
       "      <td>39868.0</td>\n",
       "      <td>2797148.0</td>\n",
       "      <td>1.000000</td>\n",
       "    </tr>\n",
       "    <tr>\n",
       "      <th>zpYdgUoitd4</th>\n",
       "      <td>34514.0</td>\n",
       "      <td>1469736.0</td>\n",
       "      <td>0.666667</td>\n",
       "    </tr>\n",
       "    <tr>\n",
       "      <th>zukfAqA_X4U</th>\n",
       "      <td>10725.0</td>\n",
       "      <td>155562.0</td>\n",
       "      <td>2.000000</td>\n",
       "    </tr>\n",
       "    <tr>\n",
       "      <th>zvS8Fmxv1_U</th>\n",
       "      <td>1167.0</td>\n",
       "      <td>235019.0</td>\n",
       "      <td>1.333333</td>\n",
       "    </tr>\n",
       "    <tr>\n",
       "      <th>zzUn1prQ5Ps</th>\n",
       "      <td>6164.0</td>\n",
       "      <td>386949.0</td>\n",
       "      <td>0.250000</td>\n",
       "    </tr>\n",
       "  </tbody>\n",
       "</table>\n",
       "<p>1428 rows × 3 columns</p>\n",
       "</div>"
      ],
      "text/plain": [
       "               Likes      Views Sentiment\n",
       "                mean       mean      mean\n",
       "Video ID                                 \n",
       "--hxd1CrOqg   6379.0   808787.0  0.000000\n",
       "--ixiTypG8g   1029.0    97434.0  0.833333\n",
       "-6IgkG5yZfo  10959.0   844015.0  1.500000\n",
       "-7hzaGya86g  18957.0   702174.0  1.666667\n",
       "-8TnsjDRXUE   3232.0   188875.0  2.000000\n",
       "...              ...        ...       ...\n",
       "zhUnEg0he4A  39868.0  2797148.0  1.000000\n",
       "zpYdgUoitd4  34514.0  1469736.0  0.666667\n",
       "zukfAqA_X4U  10725.0   155562.0  2.000000\n",
       "zvS8Fmxv1_U   1167.0   235019.0  1.333333\n",
       "zzUn1prQ5Ps   6164.0   386949.0  0.250000\n",
       "\n",
       "[1428 rows x 3 columns]"
      ]
     },
     "execution_count": 58,
     "metadata": {},
     "output_type": "execute_result"
    }
   ],
   "source": [
    "res"
   ]
  },
  {
   "cell_type": "code",
   "execution_count": 59,
   "metadata": {},
   "outputs": [
    {
     "data": {
      "text/html": [
       "<div>\n",
       "<style scoped>\n",
       "    .dataframe tbody tr th:only-of-type {\n",
       "        vertical-align: middle;\n",
       "    }\n",
       "\n",
       "    .dataframe tbody tr th {\n",
       "        vertical-align: top;\n",
       "    }\n",
       "\n",
       "    .dataframe thead tr th {\n",
       "        text-align: left;\n",
       "    }\n",
       "</style>\n",
       "<table border=\"1\" class=\"dataframe\">\n",
       "  <thead>\n",
       "    <tr>\n",
       "      <th></th>\n",
       "      <th></th>\n",
       "      <th>Likes</th>\n",
       "      <th>Views</th>\n",
       "      <th>Sentiment</th>\n",
       "    </tr>\n",
       "    <tr>\n",
       "      <th></th>\n",
       "      <th></th>\n",
       "      <th>mean</th>\n",
       "      <th>mean</th>\n",
       "      <th>mean</th>\n",
       "    </tr>\n",
       "  </thead>\n",
       "  <tbody>\n",
       "    <tr>\n",
       "      <th>Likes</th>\n",
       "      <th>mean</th>\n",
       "      <td>1.000000</td>\n",
       "      <td>0.783390</td>\n",
       "      <td>0.051026</td>\n",
       "    </tr>\n",
       "    <tr>\n",
       "      <th>Views</th>\n",
       "      <th>mean</th>\n",
       "      <td>0.783390</td>\n",
       "      <td>1.000000</td>\n",
       "      <td>0.050931</td>\n",
       "    </tr>\n",
       "    <tr>\n",
       "      <th>Sentiment</th>\n",
       "      <th>mean</th>\n",
       "      <td>0.051026</td>\n",
       "      <td>0.050931</td>\n",
       "      <td>1.000000</td>\n",
       "    </tr>\n",
       "  </tbody>\n",
       "</table>\n",
       "</div>"
      ],
      "text/plain": [
       "                   Likes     Views Sentiment\n",
       "                    mean      mean      mean\n",
       "Likes     mean  1.000000  0.783390  0.051026\n",
       "Views     mean  0.783390  1.000000  0.050931\n",
       "Sentiment mean  0.051026  0.050931  1.000000"
      ]
     },
     "execution_count": 59,
     "metadata": {},
     "output_type": "execute_result"
    }
   ],
   "source": [
    "res.corr()"
   ]
  },
  {
   "cell_type": "code",
   "execution_count": 60,
   "metadata": {},
   "outputs": [],
   "source": [
    "res.columns=['Likes','Views','Sentiment']"
   ]
  },
  {
   "cell_type": "code",
   "execution_count": 61,
   "metadata": {},
   "outputs": [
    {
     "data": {
      "image/png": "[encoded data removed]",
      "text/plain": [
       "<Figure size 432x288 with 1 Axes>"
      ]
     },
     "metadata": {},
     "output_type": "display_data"
    }
   ],
   "source": [
    "sns.histplot(res['Sentiment'])\n",
    "plt.show()"
   ]
  },
  {
   "cell_type": "code",
   "execution_count": 62,
   "metadata": {},
   "outputs": [
    {
     "data": {
      "image/png": "[encoded data removed]",
      "text/plain": [
       "<Figure size 432x288 with 1 Axes>"
      ]
     },
     "metadata": {},
     "output_type": "display_data"
    }
   ],
   "source": [
    "sns.scatterplot(data=res,x='Likes',y='Sentiment',hue='Sentiment')\n",
    "plt.show()"
   ]
  },
  {
   "cell_type": "code",
   "execution_count": 63,
   "metadata": {},
   "outputs": [
    {
     "data": {
      "image/png": "[encoded data removed]",
      "text/plain": [
       "<Figure size 432x288 with 1 Axes>"
      ]
     },
     "metadata": {},
     "output_type": "display_data"
    }
   ],
   "source": [
    "sns.scatterplot(data=res,x='Views',y='Sentiment',hue='Sentiment')\n",
    "plt.show()"
   ]
  },
  {
   "cell_type": "code",
   "execution_count": 64,
   "metadata": {},
   "outputs": [
    {
     "data": {
      "text/html": [
       "<div>\n",
       "<style scoped>\n",
       "    .dataframe tbody tr th:only-of-type {\n",
       "        vertical-align: middle;\n",
       "    }\n",
       "\n",
       "    .dataframe tbody tr th {\n",
       "        vertical-align: top;\n",
       "    }\n",
       "\n",
       "    .dataframe thead th {\n",
       "        text-align: right;\n",
       "    }\n",
       "</style>\n",
       "<table border=\"1\" class=\"dataframe\">\n",
       "  <thead>\n",
       "    <tr style=\"text-align: right;\">\n",
       "      <th></th>\n",
       "      <th>Likes</th>\n",
       "      <th>Views</th>\n",
       "      <th>Sentiment</th>\n",
       "    </tr>\n",
       "    <tr>\n",
       "      <th>Video ID</th>\n",
       "      <th></th>\n",
       "      <th></th>\n",
       "      <th></th>\n",
       "    </tr>\n",
       "  </thead>\n",
       "  <tbody>\n",
       "    <tr>\n",
       "      <th>--hxd1CrOqg</th>\n",
       "      <td>6379.0</td>\n",
       "      <td>808787.0</td>\n",
       "      <td>0.000000</td>\n",
       "    </tr>\n",
       "    <tr>\n",
       "      <th>--ixiTypG8g</th>\n",
       "      <td>1029.0</td>\n",
       "      <td>97434.0</td>\n",
       "      <td>0.833333</td>\n",
       "    </tr>\n",
       "    <tr>\n",
       "      <th>-6IgkG5yZfo</th>\n",
       "      <td>10959.0</td>\n",
       "      <td>844015.0</td>\n",
       "      <td>1.500000</td>\n",
       "    </tr>\n",
       "    <tr>\n",
       "      <th>-7hzaGya86g</th>\n",
       "      <td>18957.0</td>\n",
       "      <td>702174.0</td>\n",
       "      <td>1.666667</td>\n",
       "    </tr>\n",
       "    <tr>\n",
       "      <th>-8TnsjDRXUE</th>\n",
       "      <td>3232.0</td>\n",
       "      <td>188875.0</td>\n",
       "      <td>2.000000</td>\n",
       "    </tr>\n",
       "    <tr>\n",
       "      <th>...</th>\n",
       "      <td>...</td>\n",
       "      <td>...</td>\n",
       "      <td>...</td>\n",
       "    </tr>\n",
       "    <tr>\n",
       "      <th>zhUnEg0he4A</th>\n",
       "      <td>39868.0</td>\n",
       "      <td>2797148.0</td>\n",
       "      <td>1.000000</td>\n",
       "    </tr>\n",
       "    <tr>\n",
       "      <th>zpYdgUoitd4</th>\n",
       "      <td>34514.0</td>\n",
       "      <td>1469736.0</td>\n",
       "      <td>0.666667</td>\n",
       "    </tr>\n",
       "    <tr>\n",
       "      <th>zukfAqA_X4U</th>\n",
       "      <td>10725.0</td>\n",
       "      <td>155562.0</td>\n",
       "      <td>2.000000</td>\n",
       "    </tr>\n",
       "    <tr>\n",
       "      <th>zvS8Fmxv1_U</th>\n",
       "      <td>1167.0</td>\n",
       "      <td>235019.0</td>\n",
       "      <td>1.333333</td>\n",
       "    </tr>\n",
       "    <tr>\n",
       "      <th>zzUn1prQ5Ps</th>\n",
       "      <td>6164.0</td>\n",
       "      <td>386949.0</td>\n",
       "      <td>0.250000</td>\n",
       "    </tr>\n",
       "  </tbody>\n",
       "</table>\n",
       "<p>1428 rows × 3 columns</p>\n",
       "</div>"
      ],
      "text/plain": [
       "               Likes      Views  Sentiment\n",
       "Video ID                                  \n",
       "--hxd1CrOqg   6379.0   808787.0   0.000000\n",
       "--ixiTypG8g   1029.0    97434.0   0.833333\n",
       "-6IgkG5yZfo  10959.0   844015.0   1.500000\n",
       "-7hzaGya86g  18957.0   702174.0   1.666667\n",
       "-8TnsjDRXUE   3232.0   188875.0   2.000000\n",
       "...              ...        ...        ...\n",
       "zhUnEg0he4A  39868.0  2797148.0   1.000000\n",
       "zpYdgUoitd4  34514.0  1469736.0   0.666667\n",
       "zukfAqA_X4U  10725.0   155562.0   2.000000\n",
       "zvS8Fmxv1_U   1167.0   235019.0   1.333333\n",
       "zzUn1prQ5Ps   6164.0   386949.0   0.250000\n",
       "\n",
       "[1428 rows x 3 columns]"
      ]
     },
     "execution_count": 64,
     "metadata": {},
     "output_type": "execute_result"
    }
   ],
   "source": [
    "res"
   ]
  },
  {
   "cell_type": "code",
   "execution_count": 65,
   "metadata": {},
   "outputs": [
    {
     "data": {
      "text/plain": [
       "<seaborn.axisgrid.FacetGrid at 0x7fecfc3ffac0>"
      ]
     },
     "execution_count": 65,
     "metadata": {},
     "output_type": "execute_result"
    },
    {
     "data": {
      "image/png": "[encoded data removed]",
      "text/plain": [
       "<Figure size 360x360 with 1 Axes>"
      ]
     },
     "metadata": {},
     "output_type": "display_data"
    }
   ],
   "source": [
    "sns.lmplot(data=res,x='Likes',y='Sentiment')"
   ]
  },
  {
   "cell_type": "code",
   "execution_count": 66,
   "metadata": {},
   "outputs": [
    {
     "data": {
      "text/plain": [
       "<seaborn.axisgrid.FacetGrid at 0x7feced319760>"
      ]
     },
     "execution_count": 66,
     "metadata": {},
     "output_type": "execute_result"
    },
    {
     "data": {
      "image/png": "[encoded data removed]",
      "text/plain": [
       "<Figure size 360x360 with 1 Axes>"
      ]
     },
     "metadata": {},
     "output_type": "display_data"
    }
   ],
   "source": [
    "sns.lmplot(data=res,x='Views',y='Sentiment')"
   ]
  },
  {
   "cell_type": "code",
   "execution_count": 67,
   "metadata": {},
   "outputs": [],
   "source": [
    "##Created a feature called like_ratio to represent the number of likes per 1000 views."
   ]
  },
  {
   "cell_type": "code",
   "execution_count": 68,
   "metadata": {},
   "outputs": [],
   "source": [
    "res.reset_index(inplace=True)\n",
    "res['like_ratio'] = 1000 * (videos_stats['Likes'] / videos_stats['Views'])"
   ]
  },
  {
   "cell_type": "code",
   "execution_count": 69,
   "metadata": {},
   "outputs": [
    {
     "data": {
      "text/plain": [
       "<AxesSubplot:xlabel='Sentiment', ylabel='like_ratio'>"
      ]
     },
     "execution_count": 69,
     "metadata": {},
     "output_type": "execute_result"
    },
    {
     "data": {
      "image/png": "[encoded data removed]",
      "text/plain": [
       "<Figure size 432x288 with 1 Axes>"
      ]
     },
     "metadata": {},
     "output_type": "display_data"
    }
   ],
   "source": [
    "sns.regplot(data=res, x='Sentiment', y='like_ratio')"
   ]
  },
  {
   "cell_type": "code",
   "execution_count": 70,
   "metadata": {},
   "outputs": [
    {
     "data": {
      "text/html": [
       "<div>\n",
       "<style scoped>\n",
       "    .dataframe tbody tr th:only-of-type {\n",
       "        vertical-align: middle;\n",
       "    }\n",
       "\n",
       "    .dataframe tbody tr th {\n",
       "        vertical-align: top;\n",
       "    }\n",
       "\n",
       "    .dataframe thead th {\n",
       "        text-align: right;\n",
       "    }\n",
       "</style>\n",
       "<table border=\"1\" class=\"dataframe\">\n",
       "  <thead>\n",
       "    <tr style=\"text-align: right;\">\n",
       "      <th></th>\n",
       "      <th>Video ID</th>\n",
       "      <th>Likes</th>\n",
       "      <th>Views</th>\n",
       "      <th>Sentiment</th>\n",
       "      <th>like_ratio</th>\n",
       "    </tr>\n",
       "  </thead>\n",
       "  <tbody>\n",
       "    <tr>\n",
       "      <th>0</th>\n",
       "      <td>--hxd1CrOqg</td>\n",
       "      <td>6379.0</td>\n",
       "      <td>808787.0</td>\n",
       "      <td>0.000000</td>\n",
       "      <td>25.123145</td>\n",
       "    </tr>\n",
       "    <tr>\n",
       "      <th>1</th>\n",
       "      <td>--ixiTypG8g</td>\n",
       "      <td>1029.0</td>\n",
       "      <td>97434.0</td>\n",
       "      <td>0.833333</td>\n",
       "      <td>43.672496</td>\n",
       "    </tr>\n",
       "    <tr>\n",
       "      <th>2</th>\n",
       "      <td>-6IgkG5yZfo</td>\n",
       "      <td>10959.0</td>\n",
       "      <td>844015.0</td>\n",
       "      <td>1.500000</td>\n",
       "      <td>40.808641</td>\n",
       "    </tr>\n",
       "    <tr>\n",
       "      <th>3</th>\n",
       "      <td>-7hzaGya86g</td>\n",
       "      <td>18957.0</td>\n",
       "      <td>702174.0</td>\n",
       "      <td>1.666667</td>\n",
       "      <td>77.543184</td>\n",
       "    </tr>\n",
       "    <tr>\n",
       "      <th>4</th>\n",
       "      <td>-8TnsjDRXUE</td>\n",
       "      <td>3232.0</td>\n",
       "      <td>188875.0</td>\n",
       "      <td>2.000000</td>\n",
       "      <td>52.010515</td>\n",
       "    </tr>\n",
       "    <tr>\n",
       "      <th>...</th>\n",
       "      <td>...</td>\n",
       "      <td>...</td>\n",
       "      <td>...</td>\n",
       "      <td>...</td>\n",
       "      <td>...</td>\n",
       "    </tr>\n",
       "    <tr>\n",
       "      <th>1423</th>\n",
       "      <td>zhUnEg0he4A</td>\n",
       "      <td>39868.0</td>\n",
       "      <td>2797148.0</td>\n",
       "      <td>1.000000</td>\n",
       "      <td>46.847556</td>\n",
       "    </tr>\n",
       "    <tr>\n",
       "      <th>1424</th>\n",
       "      <td>zpYdgUoitd4</td>\n",
       "      <td>34514.0</td>\n",
       "      <td>1469736.0</td>\n",
       "      <td>0.666667</td>\n",
       "      <td>9.886998</td>\n",
       "    </tr>\n",
       "    <tr>\n",
       "      <th>1425</th>\n",
       "      <td>zukfAqA_X4U</td>\n",
       "      <td>10725.0</td>\n",
       "      <td>155562.0</td>\n",
       "      <td>2.000000</td>\n",
       "      <td>7.462821</td>\n",
       "    </tr>\n",
       "    <tr>\n",
       "      <th>1426</th>\n",
       "      <td>zvS8Fmxv1_U</td>\n",
       "      <td>1167.0</td>\n",
       "      <td>235019.0</td>\n",
       "      <td>1.333333</td>\n",
       "      <td>9.486141</td>\n",
       "    </tr>\n",
       "    <tr>\n",
       "      <th>1427</th>\n",
       "      <td>zzUn1prQ5Ps</td>\n",
       "      <td>6164.0</td>\n",
       "      <td>386949.0</td>\n",
       "      <td>0.250000</td>\n",
       "      <td>58.192736</td>\n",
       "    </tr>\n",
       "  </tbody>\n",
       "</table>\n",
       "<p>1428 rows × 5 columns</p>\n",
       "</div>"
      ],
      "text/plain": [
       "         Video ID    Likes      Views  Sentiment  like_ratio\n",
       "0     --hxd1CrOqg   6379.0   808787.0   0.000000   25.123145\n",
       "1     --ixiTypG8g   1029.0    97434.0   0.833333   43.672496\n",
       "2     -6IgkG5yZfo  10959.0   844015.0   1.500000   40.808641\n",
       "3     -7hzaGya86g  18957.0   702174.0   1.666667   77.543184\n",
       "4     -8TnsjDRXUE   3232.0   188875.0   2.000000   52.010515\n",
       "...           ...      ...        ...        ...         ...\n",
       "1423  zhUnEg0he4A  39868.0  2797148.0   1.000000   46.847556\n",
       "1424  zpYdgUoitd4  34514.0  1469736.0   0.666667    9.886998\n",
       "1425  zukfAqA_X4U  10725.0   155562.0   2.000000    7.462821\n",
       "1426  zvS8Fmxv1_U   1167.0   235019.0   1.333333    9.486141\n",
       "1427  zzUn1prQ5Ps   6164.0   386949.0   0.250000   58.192736\n",
       "\n",
       "[1428 rows x 5 columns]"
      ]
     },
     "execution_count": 70,
     "metadata": {},
     "output_type": "execute_result"
    }
   ],
   "source": [
    "res"
   ]
  },
  {
   "cell_type": "code",
   "execution_count": 71,
   "metadata": {},
   "outputs": [
    {
     "data": {
      "text/html": [
       "<div>\n",
       "<style scoped>\n",
       "    .dataframe tbody tr th:only-of-type {\n",
       "        vertical-align: middle;\n",
       "    }\n",
       "\n",
       "    .dataframe tbody tr th {\n",
       "        vertical-align: top;\n",
       "    }\n",
       "\n",
       "    .dataframe thead th {\n",
       "        text-align: right;\n",
       "    }\n",
       "</style>\n",
       "<table border=\"1\" class=\"dataframe\">\n",
       "  <thead>\n",
       "    <tr style=\"text-align: right;\">\n",
       "      <th></th>\n",
       "      <th>Likes</th>\n",
       "      <th>Views</th>\n",
       "      <th>Sentiment</th>\n",
       "      <th>like_ratio</th>\n",
       "    </tr>\n",
       "  </thead>\n",
       "  <tbody>\n",
       "    <tr>\n",
       "      <th>Likes</th>\n",
       "      <td>1.000000</td>\n",
       "      <td>0.783390</td>\n",
       "      <td>0.051026</td>\n",
       "      <td>0.004795</td>\n",
       "    </tr>\n",
       "    <tr>\n",
       "      <th>Views</th>\n",
       "      <td>0.783390</td>\n",
       "      <td>1.000000</td>\n",
       "      <td>0.050931</td>\n",
       "      <td>-0.020505</td>\n",
       "    </tr>\n",
       "    <tr>\n",
       "      <th>Sentiment</th>\n",
       "      <td>0.051026</td>\n",
       "      <td>0.050931</td>\n",
       "      <td>1.000000</td>\n",
       "      <td>-0.028420</td>\n",
       "    </tr>\n",
       "    <tr>\n",
       "      <th>like_ratio</th>\n",
       "      <td>0.004795</td>\n",
       "      <td>-0.020505</td>\n",
       "      <td>-0.028420</td>\n",
       "      <td>1.000000</td>\n",
       "    </tr>\n",
       "  </tbody>\n",
       "</table>\n",
       "</div>"
      ],
      "text/plain": [
       "               Likes     Views  Sentiment  like_ratio\n",
       "Likes       1.000000  0.783390   0.051026    0.004795\n",
       "Views       0.783390  1.000000   0.050931   -0.020505\n",
       "Sentiment   0.051026  0.050931   1.000000   -0.028420\n",
       "like_ratio  0.004795 -0.020505  -0.028420    1.000000"
      ]
     },
     "execution_count": 71,
     "metadata": {},
     "output_type": "execute_result"
    }
   ],
   "source": [
    "res.corr()"
   ]
  },
  {
   "cell_type": "code",
   "execution_count": null,
   "metadata": {},
   "outputs": [],
   "source": []
  }
 ],
 "metadata": {
  "kernelspec": {
   "display_name": "Python 3 (ipykernel)",
   "language": "python",
   "name": "python3"
  },
  "language_info": {
   "codemirror_mode": {
    "name": "ipython",
    "version": 3
   },
   "file_extension": ".py",
   "mimetype": "text/x-python",
   "name": "python",
   "nbconvert_exporter": "python",
   "pygments_lexer": "ipython3",
   "version": "3.9.12"
  }
 },
 "nbformat": 4,
 "nbformat_minor": 4
}
