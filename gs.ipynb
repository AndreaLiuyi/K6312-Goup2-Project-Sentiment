{
 "cells": [
  {
   "cell_type": "code",
   "execution_count": 1,
   "metadata": {},
   "outputs": [],
   "source": [
    "import numpy as np\n",
    "import pandas as pd\n",
    "from sklearn.model_selection import train_test_split\n",
    "import seaborn as sns\n",
    "import matplotlib.pyplot as plt\n",
    "\n",
    "import pandas as pd\n",
    "import numpy as np\n",
    "import matplotlib.pyplot as plt\n",
    "\n",
    "from sklearn.model_selection import train_test_split\n",
    "import nltk\n",
    "plt.style.use('ggplot')\n",
    "import warnings\n",
    "warnings.filterwarnings('ignore')"
   ]
  },
  {
   "cell_type": "code",
   "execution_count": 2,
   "metadata": {},
   "outputs": [],
   "source": [
    "videos_stats = pd.read_csv(\"videos-stats.csv\")\n",
    "comments = pd.read_csv(\"comments.csv\")"
   ]
  },
  {
   "cell_type": "code",
   "execution_count": 3,
   "metadata": {},
   "outputs": [],
   "source": [
    "videos_stats.drop_duplicates(subset='Video ID', ignore_index=True, inplace=True)\n",
    "\n",
    "\n",
    "videos_stats.drop(columns=\"Unnamed: 0\", inplace=True)\n",
    "comments.drop(columns=\"Unnamed: 0\", inplace=True)"
   ]
  },
  {
   "cell_type": "code",
   "execution_count": 4,
   "metadata": {},
   "outputs": [
    {
     "data": {
      "text/html": [
       "<div>\n",
       "<style scoped>\n",
       "    .dataframe tbody tr th:only-of-type {\n",
       "        vertical-align: middle;\n",
       "    }\n",
       "\n",
       "    .dataframe tbody tr th {\n",
       "        vertical-align: top;\n",
       "    }\n",
       "\n",
       "    .dataframe thead th {\n",
       "        text-align: right;\n",
       "    }\n",
       "</style>\n",
       "<table border=\"1\" class=\"dataframe\">\n",
       "  <thead>\n",
       "    <tr style=\"text-align: right;\">\n",
       "      <th></th>\n",
       "      <th>Video ID</th>\n",
       "      <th>Comment</th>\n",
       "      <th>Likes</th>\n",
       "      <th>Sentiment</th>\n",
       "    </tr>\n",
       "  </thead>\n",
       "  <tbody>\n",
       "    <tr>\n",
       "      <th>0</th>\n",
       "      <td>wAZZ-UWGVHI</td>\n",
       "      <td>Let's not forget that Apple Pay in 2014 requir...</td>\n",
       "      <td>95.0</td>\n",
       "      <td>1.0</td>\n",
       "    </tr>\n",
       "    <tr>\n",
       "      <th>1</th>\n",
       "      <td>wAZZ-UWGVHI</td>\n",
       "      <td>Here in NZ 50% of retailers don’t even have co...</td>\n",
       "      <td>19.0</td>\n",
       "      <td>0.0</td>\n",
       "    </tr>\n",
       "    <tr>\n",
       "      <th>2</th>\n",
       "      <td>wAZZ-UWGVHI</td>\n",
       "      <td>I will forever acknowledge this channel with t...</td>\n",
       "      <td>161.0</td>\n",
       "      <td>2.0</td>\n",
       "    </tr>\n",
       "    <tr>\n",
       "      <th>3</th>\n",
       "      <td>wAZZ-UWGVHI</td>\n",
       "      <td>Whenever I go to a place that doesn’t take App...</td>\n",
       "      <td>8.0</td>\n",
       "      <td>0.0</td>\n",
       "    </tr>\n",
       "    <tr>\n",
       "      <th>4</th>\n",
       "      <td>wAZZ-UWGVHI</td>\n",
       "      <td>Apple Pay is so convenient, secure, and easy t...</td>\n",
       "      <td>34.0</td>\n",
       "      <td>2.0</td>\n",
       "    </tr>\n",
       "  </tbody>\n",
       "</table>\n",
       "</div>"
      ],
      "text/plain": [
       "      Video ID                                            Comment  Likes  \\\n",
       "0  wAZZ-UWGVHI  Let's not forget that Apple Pay in 2014 requir...   95.0   \n",
       "1  wAZZ-UWGVHI  Here in NZ 50% of retailers don’t even have co...   19.0   \n",
       "2  wAZZ-UWGVHI  I will forever acknowledge this channel with t...  161.0   \n",
       "3  wAZZ-UWGVHI  Whenever I go to a place that doesn’t take App...    8.0   \n",
       "4  wAZZ-UWGVHI  Apple Pay is so convenient, secure, and easy t...   34.0   \n",
       "\n",
       "   Sentiment  \n",
       "0        1.0  \n",
       "1        0.0  \n",
       "2        2.0  \n",
       "3        0.0  \n",
       "4        2.0  "
      ]
     },
     "execution_count": 4,
     "metadata": {},
     "output_type": "execute_result"
    }
   ],
   "source": [
    "comments.head()"
   ]
  },
  {
   "cell_type": "code",
   "execution_count": 5,
   "metadata": {},
   "outputs": [],
   "source": [
    "comments=comments.drop(columns=['Likes'])"
   ]
  },
  {
   "cell_type": "code",
   "execution_count": 6,
   "metadata": {
    "scrolled": true
   },
   "outputs": [
    {
     "data": {
      "text/html": [
       "<div>\n",
       "<style scoped>\n",
       "    .dataframe tbody tr th:only-of-type {\n",
       "        vertical-align: middle;\n",
       "    }\n",
       "\n",
       "    .dataframe tbody tr th {\n",
       "        vertical-align: top;\n",
       "    }\n",
       "\n",
       "    .dataframe thead th {\n",
       "        text-align: right;\n",
       "    }\n",
       "</style>\n",
       "<table border=\"1\" class=\"dataframe\">\n",
       "  <thead>\n",
       "    <tr style=\"text-align: right;\">\n",
       "      <th></th>\n",
       "      <th>Title</th>\n",
       "      <th>Video ID</th>\n",
       "      <th>Published At</th>\n",
       "      <th>Keyword</th>\n",
       "      <th>Likes</th>\n",
       "      <th>Comments</th>\n",
       "      <th>Views</th>\n",
       "    </tr>\n",
       "  </thead>\n",
       "  <tbody>\n",
       "    <tr>\n",
       "      <th>0</th>\n",
       "      <td>Apple Pay Is Killing the Physical Wallet After...</td>\n",
       "      <td>wAZZ-UWGVHI</td>\n",
       "      <td>2022-08-23</td>\n",
       "      <td>tech</td>\n",
       "      <td>3407.0</td>\n",
       "      <td>672.0</td>\n",
       "      <td>135612.0</td>\n",
       "    </tr>\n",
       "    <tr>\n",
       "      <th>1</th>\n",
       "      <td>The most EXPENSIVE thing I own.</td>\n",
       "      <td>b3x28s61q3c</td>\n",
       "      <td>2022-08-24</td>\n",
       "      <td>tech</td>\n",
       "      <td>76779.0</td>\n",
       "      <td>4306.0</td>\n",
       "      <td>1758063.0</td>\n",
       "    </tr>\n",
       "    <tr>\n",
       "      <th>2</th>\n",
       "      <td>My New House Gaming Setup is SICK!</td>\n",
       "      <td>4mgePWWCAmA</td>\n",
       "      <td>2022-08-23</td>\n",
       "      <td>tech</td>\n",
       "      <td>63825.0</td>\n",
       "      <td>3338.0</td>\n",
       "      <td>1564007.0</td>\n",
       "    </tr>\n",
       "    <tr>\n",
       "      <th>3</th>\n",
       "      <td>Petrol Vs Liquid Nitrogen | Freezing Experimen...</td>\n",
       "      <td>kXiYSI7H2b0</td>\n",
       "      <td>2022-08-23</td>\n",
       "      <td>tech</td>\n",
       "      <td>71566.0</td>\n",
       "      <td>1426.0</td>\n",
       "      <td>922918.0</td>\n",
       "    </tr>\n",
       "    <tr>\n",
       "      <th>4</th>\n",
       "      <td>Best Back to School Tech 2022!</td>\n",
       "      <td>ErMwWXQxHp0</td>\n",
       "      <td>2022-08-08</td>\n",
       "      <td>tech</td>\n",
       "      <td>96513.0</td>\n",
       "      <td>5155.0</td>\n",
       "      <td>1855644.0</td>\n",
       "    </tr>\n",
       "  </tbody>\n",
       "</table>\n",
       "</div>"
      ],
      "text/plain": [
       "                                               Title     Video ID  \\\n",
       "0  Apple Pay Is Killing the Physical Wallet After...  wAZZ-UWGVHI   \n",
       "1                    The most EXPENSIVE thing I own.  b3x28s61q3c   \n",
       "2                 My New House Gaming Setup is SICK!  4mgePWWCAmA   \n",
       "3  Petrol Vs Liquid Nitrogen | Freezing Experimen...  kXiYSI7H2b0   \n",
       "4                     Best Back to School Tech 2022!  ErMwWXQxHp0   \n",
       "\n",
       "  Published At Keyword    Likes  Comments      Views  \n",
       "0   2022-08-23    tech   3407.0     672.0   135612.0  \n",
       "1   2022-08-24    tech  76779.0    4306.0  1758063.0  \n",
       "2   2022-08-23    tech  63825.0    3338.0  1564007.0  \n",
       "3   2022-08-23    tech  71566.0    1426.0   922918.0  \n",
       "4   2022-08-08    tech  96513.0    5155.0  1855644.0  "
      ]
     },
     "execution_count": 6,
     "metadata": {},
     "output_type": "execute_result"
    }
   ],
   "source": [
    "videos_stats.head()"
   ]
  },
  {
   "cell_type": "code",
   "execution_count": 7,
   "metadata": {},
   "outputs": [],
   "source": [
    "##这一部分挪到后面我一起讲了吧"
   ]
  },
  {
   "cell_type": "code",
   "execution_count": 8,
   "metadata": {},
   "outputs": [
    {
     "data": {
      "image/png": "[encoded data removed]",
      "text/plain": [
       "<Figure size 432x288 with 1 Axes>"
      ]
     },
     "metadata": {},
     "output_type": "display_data"
    }
   ],
   "source": [
    "sns.distplot(videos_stats['Likes'])\n",
    "plt.show()"
   ]
  },
  {
   "cell_type": "code",
   "execution_count": 9,
   "metadata": {
    "scrolled": true
   },
   "outputs": [
    {
     "data": {
      "image/png": "[encoded data removed]",
      "text/plain": [
       "<Figure size 432x288 with 1 Axes>"
      ]
     },
     "metadata": {},
     "output_type": "display_data"
    }
   ],
   "source": [
    "sns.distplot(videos_stats['Views'])\n",
    "plt.show()"
   ]
  },
  {
   "cell_type": "code",
   "execution_count": 10,
   "metadata": {},
   "outputs": [],
   "source": [
    "##删除无效数据"
   ]
  },
  {
   "cell_type": "code",
   "execution_count": 11,
   "metadata": {},
   "outputs": [],
   "source": [
    "comments=pd.merge(comments,videos_stats,on='Video ID')"
   ]
  },
  {
   "cell_type": "code",
   "execution_count": 12,
   "metadata": {},
   "outputs": [],
   "source": [
    "comments=comments.dropna()"
   ]
  },
  {
   "cell_type": "code",
   "execution_count": 13,
   "metadata": {},
   "outputs": [],
   "source": [
    "comments=comments.sample(len(comments))"
   ]
  },
  {
   "cell_type": "code",
   "execution_count": 14,
   "metadata": {},
   "outputs": [
    {
     "data": {
      "text/plain": [
       "Video ID        0\n",
       "Comment         0\n",
       "Sentiment       0\n",
       "Title           0\n",
       "Published At    0\n",
       "Keyword         0\n",
       "Likes           0\n",
       "Comments        0\n",
       "Views           0\n",
       "dtype: int64"
      ]
     },
     "execution_count": 14,
     "metadata": {},
     "output_type": "execute_result"
    }
   ],
   "source": [
    "comments.isnull().sum()"
   ]
  },
  {
   "cell_type": "code",
   "execution_count": 15,
   "metadata": {},
   "outputs": [],
   "source": [
    "comments.dropna(inplace=True)"
   ]
  },
  {
   "cell_type": "code",
   "execution_count": 16,
   "metadata": {},
   "outputs": [],
   "source": [
    "##四分位法去除极端数据（这部分也我讲吧）"
   ]
  },
  {
   "cell_type": "code",
   "execution_count": 17,
   "metadata": {},
   "outputs": [],
   "source": [
    "Q1=comments.quantile(0.25)\n",
    "Q3=comments.quantile(0.75)"
   ]
  },
  {
   "cell_type": "code",
   "execution_count": 18,
   "metadata": {},
   "outputs": [],
   "source": [
    "IQR=Q3-Q1\n",
    "comments=comments[~((comments<(Q1-1.5*IQR))|(comments>(Q3+1.5*IQR))).any(axis=1)]"
   ]
  },
  {
   "cell_type": "code",
   "execution_count": 19,
   "metadata": {},
   "outputs": [],
   "source": [
    "comments=comments[comments['Likes']>0]"
   ]
  },
  {
   "cell_type": "code",
   "execution_count": 20,
   "metadata": {},
   "outputs": [],
   "source": [
    "comments=comments[comments['Views']>0]"
   ]
  },
  {
   "cell_type": "code",
   "execution_count": 21,
   "metadata": {},
   "outputs": [
    {
     "data": {
      "image/png": "[encoded data removed]",
      "text/plain": [
       "<Figure size 432x288 with 1 Axes>"
      ]
     },
     "metadata": {},
     "output_type": "display_data"
    }
   ],
   "source": [
    "sns.distplot(comments['Likes'])\n",
    "plt.show()"
   ]
  },
  {
   "cell_type": "code",
   "execution_count": 22,
   "metadata": {},
   "outputs": [
    {
     "data": {
      "image/png": "[encoded data removed]",
      "text/plain": [
       "<Figure size 432x288 with 1 Axes>"
      ]
     },
     "metadata": {},
     "output_type": "display_data"
    }
   ],
   "source": [
    "sns.distplot(comments['Views'])\n",
    "plt.show()"
   ]
  },
  {
   "cell_type": "code",
   "execution_count": 23,
   "metadata": {},
   "outputs": [],
   "source": [
    "##Text processing（nltk去掉stopwords，用空格分隔"
   ]
  },
  {
   "cell_type": "code",
   "execution_count": 24,
   "metadata": {},
   "outputs": [],
   "source": [
    "labels = np.array(comments['Sentiment'])\n",
    "comment = list(comments['Comment'])"
   ]
  },
  {
   "cell_type": "code",
   "execution_count": 25,
   "metadata": {},
   "outputs": [],
   "source": [
    "def filter_stopwords(sentences):\n",
    "    filtered_sentences = []\n",
    "    stopwords = nltk.corpus.stopwords.words('english')\n",
    "    for s in sentences:\n",
    "        filtered_sentence = [w for w in s.split() if w not in stopwords]\n",
    "        filtered_sentences.append(' '.join(filtered_sentence))\n",
    "    return filtered_sentences"
   ]
  },
  {
   "cell_type": "code",
   "execution_count": 26,
   "metadata": {},
   "outputs": [],
   "source": [
    "comment = filter_stopwords(comment)"
   ]
  },
  {
   "cell_type": "code",
   "execution_count": 27,
   "metadata": {},
   "outputs": [],
   "source": [
    "##建立训练集和测试集"
   ]
  },
  {
   "cell_type": "code",
   "execution_count": 28,
   "metadata": {},
   "outputs": [],
   "source": [
    "##选择前10000个数据为训练集"
   ]
  },
  {
   "cell_type": "code",
   "execution_count": 29,
   "metadata": {},
   "outputs": [],
   "source": [
    "n=10000"
   ]
  },
  {
   "cell_type": "code",
   "execution_count": 30,
   "metadata": {},
   "outputs": [],
   "source": [
    "comment_test=comments.iloc[n:]"
   ]
  },
  {
   "cell_type": "code",
   "execution_count": 31,
   "metadata": {},
   "outputs": [],
   "source": [
    "comment_test.drop(columns=\"Sentiment\", inplace=True)"
   ]
  },
  {
   "cell_type": "code",
   "execution_count": 32,
   "metadata": {},
   "outputs": [],
   "source": [
    "##建立训练集"
   ]
  },
  {
   "cell_type": "code",
   "execution_count": 33,
   "metadata": {},
   "outputs": [],
   "source": [
    "X_train, X_test, Y_train, Y_test = comment[:n],comment[n:],labels[:n],labels[n:]"
   ]
  },
  {
   "cell_type": "code",
   "execution_count": 34,
   "metadata": {},
   "outputs": [],
   "source": [
    "##将text转化为tfid矩阵"
   ]
  },
  {
   "cell_type": "code",
   "execution_count": 35,
   "metadata": {},
   "outputs": [],
   "source": [
    "from sklearn.feature_extraction.text import TfidfVectorizer\n",
    "tfidf_transformer = TfidfVectorizer()\n",
    "tf_train_data = tfidf_transformer.fit_transform(X_train)\n",
    "tf_docs_new = tfidf_transformer.transform(X_test)"
   ]
  },
  {
   "cell_type": "code",
   "execution_count": 36,
   "metadata": {},
   "outputs": [
    {
     "data": {
      "text/plain": [
       "<10000x26239 sparse matrix of type '<class 'numpy.float64'>'\n",
       "\twith 186008 stored elements in Compressed Sparse Row format>"
      ]
     },
     "execution_count": 36,
     "metadata": {},
     "output_type": "execute_result"
    }
   ],
   "source": [
    "tf_train_data"
   ]
  },
  {
   "cell_type": "code",
   "execution_count": 37,
   "metadata": {},
   "outputs": [],
   "source": [
    "##随机森林训练数据"
   ]
  },
  {
   "cell_type": "code",
   "execution_count": 38,
   "metadata": {},
   "outputs": [],
   "source": [
    "from sklearn.neural_network import MLPClassifier\n",
    "clf = MLPClassifier()"
   ]
  },
  {
   "cell_type": "code",
   "execution_count": 39,
   "metadata": {},
   "outputs": [
    {
     "data": {
      "text/plain": [
       "MLPClassifier()"
      ]
     },
     "execution_count": 39,
     "metadata": {},
     "output_type": "execute_result"
    }
   ],
   "source": [
    "clf.fit(tf_train_data, Y_train)"
   ]
  },
  {
   "cell_type": "code",
   "execution_count": 40,
   "metadata": {},
   "outputs": [
    {
     "data": {
      "text/html": [
       "<div>\n",
       "<style scoped>\n",
       "    .dataframe tbody tr th:only-of-type {\n",
       "        vertical-align: middle;\n",
       "    }\n",
       "\n",
       "    .dataframe tbody tr th {\n",
       "        vertical-align: top;\n",
       "    }\n",
       "\n",
       "    .dataframe thead th {\n",
       "        text-align: right;\n",
       "    }\n",
       "</style>\n",
       "<table border=\"1\" class=\"dataframe\">\n",
       "  <thead>\n",
       "    <tr style=\"text-align: right;\">\n",
       "      <th></th>\n",
       "      <th>Video ID</th>\n",
       "      <th>Comment</th>\n",
       "      <th>Title</th>\n",
       "      <th>Published At</th>\n",
       "      <th>Keyword</th>\n",
       "      <th>Likes</th>\n",
       "      <th>Comments</th>\n",
       "      <th>Views</th>\n",
       "    </tr>\n",
       "  </thead>\n",
       "  <tbody>\n",
       "    <tr>\n",
       "      <th>17884</th>\n",
       "      <td>0jTI8UfcY1M</td>\n",
       "      <td>I’ve always wanted to make a game, and I’ve co...</td>\n",
       "      <td>Game development is hard | Indie Game Devlog</td>\n",
       "      <td>2022-08-13</td>\n",
       "      <td>game development</td>\n",
       "      <td>25476.0</td>\n",
       "      <td>1892.0</td>\n",
       "      <td>512978.0</td>\n",
       "    </tr>\n",
       "    <tr>\n",
       "      <th>5762</th>\n",
       "      <td>dCPHGwW9SOk</td>\n",
       "      <td>I would expect Spot to have this kind on versa...</td>\n",
       "      <td>Google’s Most Advanced Robot Brain Just Got a ...</td>\n",
       "      <td>2022-08-21</td>\n",
       "      <td>google</td>\n",
       "      <td>3823.0</td>\n",
       "      <td>444.0</td>\n",
       "      <td>212395.0</td>\n",
       "    </tr>\n",
       "    <tr>\n",
       "      <th>949</th>\n",
       "      <td>UZFeOxoRe8g</td>\n",
       "      <td>anh làm clip tấu hài là chính hay lắm.Chúc anh...</td>\n",
       "      <td>Farming Simulator 22 #13 - Khi Xe Bán Tải Chở ...</td>\n",
       "      <td>2022-08-24</td>\n",
       "      <td>gaming</td>\n",
       "      <td>2501.0</td>\n",
       "      <td>193.0</td>\n",
       "      <td>84565.0</td>\n",
       "    </tr>\n",
       "    <tr>\n",
       "      <th>659</th>\n",
       "      <td>MSTmUJU48g4</td>\n",
       "      <td>21% making 💵\\n74% struggling</td>\n",
       "      <td>Americans Are Angry And Worried About U.S. Fut...</td>\n",
       "      <td>2022-08-21</td>\n",
       "      <td>news</td>\n",
       "      <td>510.0</td>\n",
       "      <td>560.0</td>\n",
       "      <td>34715.0</td>\n",
       "    </tr>\n",
       "    <tr>\n",
       "      <th>250</th>\n",
       "      <td>IHnhSxizVOA</td>\n",
       "      <td>The price of todays bikes is absolutely bonker...</td>\n",
       "      <td>Battle Of The Tech - Super Bike Vs World Super...</td>\n",
       "      <td>2022-07-31</td>\n",
       "      <td>tech</td>\n",
       "      <td>1289.0</td>\n",
       "      <td>183.0</td>\n",
       "      <td>35948.0</td>\n",
       "    </tr>\n",
       "    <tr>\n",
       "      <th>...</th>\n",
       "      <td>...</td>\n",
       "      <td>...</td>\n",
       "      <td>...</td>\n",
       "      <td>...</td>\n",
       "      <td>...</td>\n",
       "      <td>...</td>\n",
       "      <td>...</td>\n",
       "      <td>...</td>\n",
       "    </tr>\n",
       "    <tr>\n",
       "      <th>14033</th>\n",
       "      <td>xvWdIi6_fGg</td>\n",
       "      <td>The best part about his style of teaching is t...</td>\n",
       "      <td>Cell Biology | DNA Replication 🧬</td>\n",
       "      <td>2021-03-29</td>\n",
       "      <td>biology</td>\n",
       "      <td>13733.0</td>\n",
       "      <td>626.0</td>\n",
       "      <td>489332.0</td>\n",
       "    </tr>\n",
       "    <tr>\n",
       "      <th>9314</th>\n",
       "      <td>6jgiqyw6E3o</td>\n",
       "      <td>Huge thank you to Ali for making this trip pos...</td>\n",
       "      <td>Cooking Entire YAK!! Pakistani Mountain Food i...</td>\n",
       "      <td>2022-07-10</td>\n",
       "      <td>food</td>\n",
       "      <td>44713.0</td>\n",
       "      <td>2725.0</td>\n",
       "      <td>1186255.0</td>\n",
       "    </tr>\n",
       "    <tr>\n",
       "      <th>5311</th>\n",
       "      <td>zDiC8KexSRM</td>\n",
       "      <td>Phone are no longer compared by speed but by t...</td>\n",
       "      <td>Elon Musk&amp;#39;s ALL NEW Phone Just DESTROYED A...</td>\n",
       "      <td>2022-08-02</td>\n",
       "      <td>apple</td>\n",
       "      <td>3908.0</td>\n",
       "      <td>61.0</td>\n",
       "      <td>174482.0</td>\n",
       "    </tr>\n",
       "    <tr>\n",
       "      <th>7596</th>\n",
       "      <td>GlsFxbhWOS8</td>\n",
       "      <td>hey tanqr love the content tanqr Keep it Up!</td>\n",
       "      <td>I built a FAKE Bed Defense in Roblox Bedwars..</td>\n",
       "      <td>2021-06-27</td>\n",
       "      <td>bed</td>\n",
       "      <td>135484.0</td>\n",
       "      <td>4557.0</td>\n",
       "      <td>5301271.0</td>\n",
       "    </tr>\n",
       "    <tr>\n",
       "      <th>3701</th>\n",
       "      <td>8JE0yOUAFmM</td>\n",
       "      <td>Yeah I've been able to withdraw my initial inv...</td>\n",
       "      <td>48 HOURS UNTIL THE CRYPTO MARKET &amp;quot;KNOWS!&amp;...</td>\n",
       "      <td>2022-08-24</td>\n",
       "      <td>crypto</td>\n",
       "      <td>431.0</td>\n",
       "      <td>154.0</td>\n",
       "      <td>4247.0</td>\n",
       "    </tr>\n",
       "  </tbody>\n",
       "</table>\n",
       "<p>4484 rows × 8 columns</p>\n",
       "</div>"
      ],
      "text/plain": [
       "          Video ID                                            Comment  \\\n",
       "17884  0jTI8UfcY1M  I’ve always wanted to make a game, and I’ve co...   \n",
       "5762   dCPHGwW9SOk  I would expect Spot to have this kind on versa...   \n",
       "949    UZFeOxoRe8g  anh làm clip tấu hài là chính hay lắm.Chúc anh...   \n",
       "659    MSTmUJU48g4                       21% making 💵\\n74% struggling   \n",
       "250    IHnhSxizVOA  The price of todays bikes is absolutely bonker...   \n",
       "...            ...                                                ...   \n",
       "14033  xvWdIi6_fGg  The best part about his style of teaching is t...   \n",
       "9314   6jgiqyw6E3o  Huge thank you to Ali for making this trip pos...   \n",
       "5311   zDiC8KexSRM  Phone are no longer compared by speed but by t...   \n",
       "7596   GlsFxbhWOS8       hey tanqr love the content tanqr Keep it Up!   \n",
       "3701   8JE0yOUAFmM  Yeah I've been able to withdraw my initial inv...   \n",
       "\n",
       "                                                   Title Published At  \\\n",
       "17884       Game development is hard | Indie Game Devlog   2022-08-13   \n",
       "5762   Google’s Most Advanced Robot Brain Just Got a ...   2022-08-21   \n",
       "949    Farming Simulator 22 #13 - Khi Xe Bán Tải Chở ...   2022-08-24   \n",
       "659    Americans Are Angry And Worried About U.S. Fut...   2022-08-21   \n",
       "250    Battle Of The Tech - Super Bike Vs World Super...   2022-07-31   \n",
       "...                                                  ...          ...   \n",
       "14033                   Cell Biology | DNA Replication 🧬   2021-03-29   \n",
       "9314   Cooking Entire YAK!! Pakistani Mountain Food i...   2022-07-10   \n",
       "5311   Elon Musk&#39;s ALL NEW Phone Just DESTROYED A...   2022-08-02   \n",
       "7596      I built a FAKE Bed Defense in Roblox Bedwars..   2021-06-27   \n",
       "3701   48 HOURS UNTIL THE CRYPTO MARKET &quot;KNOWS!&...   2022-08-24   \n",
       "\n",
       "                Keyword     Likes  Comments      Views  \n",
       "17884  game development   25476.0    1892.0   512978.0  \n",
       "5762             google    3823.0     444.0   212395.0  \n",
       "949              gaming    2501.0     193.0    84565.0  \n",
       "659                news     510.0     560.0    34715.0  \n",
       "250                tech    1289.0     183.0    35948.0  \n",
       "...                 ...       ...       ...        ...  \n",
       "14033           biology   13733.0     626.0   489332.0  \n",
       "9314               food   44713.0    2725.0  1186255.0  \n",
       "5311              apple    3908.0      61.0   174482.0  \n",
       "7596                bed  135484.0    4557.0  5301271.0  \n",
       "3701             crypto     431.0     154.0     4247.0  \n",
       "\n",
       "[4484 rows x 8 columns]"
      ]
     },
     "execution_count": 40,
     "metadata": {},
     "output_type": "execute_result"
    }
   ],
   "source": [
    "comment_test"
   ]
  },
  {
   "cell_type": "code",
   "execution_count": 41,
   "metadata": {},
   "outputs": [],
   "source": [
    "acc=clf.score(tf_docs_new,Y_test)"
   ]
  },
  {
   "cell_type": "code",
   "execution_count": 42,
   "metadata": {},
   "outputs": [],
   "source": [
    "##精准度为"
   ]
  },
  {
   "cell_type": "code",
   "execution_count": 43,
   "metadata": {
    "scrolled": false
   },
   "outputs": [
    {
     "name": "stdout",
     "output_type": "stream",
     "text": [
      "0.7370651204281892\n"
     ]
    }
   ],
   "source": [
    "print(acc)"
   ]
  },
  {
   "cell_type": "code",
   "execution_count": 44,
   "metadata": {},
   "outputs": [],
   "source": [
    "ypre=clf.predict(tf_docs_new)"
   ]
  },
  {
   "cell_type": "code",
   "execution_count": 45,
   "metadata": {},
   "outputs": [],
   "source": [
    "comment_test['Sentiment']=ypre"
   ]
  },
  {
   "cell_type": "code",
   "execution_count": 46,
   "metadata": {},
   "outputs": [
    {
     "data": {
      "text/html": [
       "<div>\n",
       "<style scoped>\n",
       "    .dataframe tbody tr th:only-of-type {\n",
       "        vertical-align: middle;\n",
       "    }\n",
       "\n",
       "    .dataframe tbody tr th {\n",
       "        vertical-align: top;\n",
       "    }\n",
       "\n",
       "    .dataframe thead th {\n",
       "        text-align: right;\n",
       "    }\n",
       "</style>\n",
       "<table border=\"1\" class=\"dataframe\">\n",
       "  <thead>\n",
       "    <tr style=\"text-align: right;\">\n",
       "      <th></th>\n",
       "      <th>Video ID</th>\n",
       "      <th>Comment</th>\n",
       "      <th>Title</th>\n",
       "      <th>Published At</th>\n",
       "      <th>Keyword</th>\n",
       "      <th>Likes</th>\n",
       "      <th>Comments</th>\n",
       "      <th>Views</th>\n",
       "      <th>Sentiment</th>\n",
       "    </tr>\n",
       "  </thead>\n",
       "  <tbody>\n",
       "    <tr>\n",
       "      <th>17884</th>\n",
       "      <td>0jTI8UfcY1M</td>\n",
       "      <td>I’ve always wanted to make a game, and I’ve co...</td>\n",
       "      <td>Game development is hard | Indie Game Devlog</td>\n",
       "      <td>2022-08-13</td>\n",
       "      <td>game development</td>\n",
       "      <td>25476.0</td>\n",
       "      <td>1892.0</td>\n",
       "      <td>512978.0</td>\n",
       "      <td>2.0</td>\n",
       "    </tr>\n",
       "    <tr>\n",
       "      <th>5762</th>\n",
       "      <td>dCPHGwW9SOk</td>\n",
       "      <td>I would expect Spot to have this kind on versa...</td>\n",
       "      <td>Google’s Most Advanced Robot Brain Just Got a ...</td>\n",
       "      <td>2022-08-21</td>\n",
       "      <td>google</td>\n",
       "      <td>3823.0</td>\n",
       "      <td>444.0</td>\n",
       "      <td>212395.0</td>\n",
       "      <td>1.0</td>\n",
       "    </tr>\n",
       "    <tr>\n",
       "      <th>949</th>\n",
       "      <td>UZFeOxoRe8g</td>\n",
       "      <td>anh làm clip tấu hài là chính hay lắm.Chúc anh...</td>\n",
       "      <td>Farming Simulator 22 #13 - Khi Xe Bán Tải Chở ...</td>\n",
       "      <td>2022-08-24</td>\n",
       "      <td>gaming</td>\n",
       "      <td>2501.0</td>\n",
       "      <td>193.0</td>\n",
       "      <td>84565.0</td>\n",
       "      <td>1.0</td>\n",
       "    </tr>\n",
       "    <tr>\n",
       "      <th>659</th>\n",
       "      <td>MSTmUJU48g4</td>\n",
       "      <td>21% making 💵\\n74% struggling</td>\n",
       "      <td>Americans Are Angry And Worried About U.S. Fut...</td>\n",
       "      <td>2022-08-21</td>\n",
       "      <td>news</td>\n",
       "      <td>510.0</td>\n",
       "      <td>560.0</td>\n",
       "      <td>34715.0</td>\n",
       "      <td>0.0</td>\n",
       "    </tr>\n",
       "    <tr>\n",
       "      <th>250</th>\n",
       "      <td>IHnhSxizVOA</td>\n",
       "      <td>The price of todays bikes is absolutely bonker...</td>\n",
       "      <td>Battle Of The Tech - Super Bike Vs World Super...</td>\n",
       "      <td>2022-07-31</td>\n",
       "      <td>tech</td>\n",
       "      <td>1289.0</td>\n",
       "      <td>183.0</td>\n",
       "      <td>35948.0</td>\n",
       "      <td>1.0</td>\n",
       "    </tr>\n",
       "    <tr>\n",
       "      <th>...</th>\n",
       "      <td>...</td>\n",
       "      <td>...</td>\n",
       "      <td>...</td>\n",
       "      <td>...</td>\n",
       "      <td>...</td>\n",
       "      <td>...</td>\n",
       "      <td>...</td>\n",
       "      <td>...</td>\n",
       "      <td>...</td>\n",
       "    </tr>\n",
       "    <tr>\n",
       "      <th>14033</th>\n",
       "      <td>xvWdIi6_fGg</td>\n",
       "      <td>The best part about his style of teaching is t...</td>\n",
       "      <td>Cell Biology | DNA Replication 🧬</td>\n",
       "      <td>2021-03-29</td>\n",
       "      <td>biology</td>\n",
       "      <td>13733.0</td>\n",
       "      <td>626.0</td>\n",
       "      <td>489332.0</td>\n",
       "      <td>1.0</td>\n",
       "    </tr>\n",
       "    <tr>\n",
       "      <th>9314</th>\n",
       "      <td>6jgiqyw6E3o</td>\n",
       "      <td>Huge thank you to Ali for making this trip pos...</td>\n",
       "      <td>Cooking Entire YAK!! Pakistani Mountain Food i...</td>\n",
       "      <td>2022-07-10</td>\n",
       "      <td>food</td>\n",
       "      <td>44713.0</td>\n",
       "      <td>2725.0</td>\n",
       "      <td>1186255.0</td>\n",
       "      <td>2.0</td>\n",
       "    </tr>\n",
       "    <tr>\n",
       "      <th>5311</th>\n",
       "      <td>zDiC8KexSRM</td>\n",
       "      <td>Phone are no longer compared by speed but by t...</td>\n",
       "      <td>Elon Musk&amp;#39;s ALL NEW Phone Just DESTROYED A...</td>\n",
       "      <td>2022-08-02</td>\n",
       "      <td>apple</td>\n",
       "      <td>3908.0</td>\n",
       "      <td>61.0</td>\n",
       "      <td>174482.0</td>\n",
       "      <td>1.0</td>\n",
       "    </tr>\n",
       "    <tr>\n",
       "      <th>7596</th>\n",
       "      <td>GlsFxbhWOS8</td>\n",
       "      <td>hey tanqr love the content tanqr Keep it Up!</td>\n",
       "      <td>I built a FAKE Bed Defense in Roblox Bedwars..</td>\n",
       "      <td>2021-06-27</td>\n",
       "      <td>bed</td>\n",
       "      <td>135484.0</td>\n",
       "      <td>4557.0</td>\n",
       "      <td>5301271.0</td>\n",
       "      <td>2.0</td>\n",
       "    </tr>\n",
       "    <tr>\n",
       "      <th>3701</th>\n",
       "      <td>8JE0yOUAFmM</td>\n",
       "      <td>Yeah I've been able to withdraw my initial inv...</td>\n",
       "      <td>48 HOURS UNTIL THE CRYPTO MARKET &amp;quot;KNOWS!&amp;...</td>\n",
       "      <td>2022-08-24</td>\n",
       "      <td>crypto</td>\n",
       "      <td>431.0</td>\n",
       "      <td>154.0</td>\n",
       "      <td>4247.0</td>\n",
       "      <td>2.0</td>\n",
       "    </tr>\n",
       "  </tbody>\n",
       "</table>\n",
       "<p>4484 rows × 9 columns</p>\n",
       "</div>"
      ],
      "text/plain": [
       "          Video ID                                            Comment  \\\n",
       "17884  0jTI8UfcY1M  I’ve always wanted to make a game, and I’ve co...   \n",
       "5762   dCPHGwW9SOk  I would expect Spot to have this kind on versa...   \n",
       "949    UZFeOxoRe8g  anh làm clip tấu hài là chính hay lắm.Chúc anh...   \n",
       "659    MSTmUJU48g4                       21% making 💵\\n74% struggling   \n",
       "250    IHnhSxizVOA  The price of todays bikes is absolutely bonker...   \n",
       "...            ...                                                ...   \n",
       "14033  xvWdIi6_fGg  The best part about his style of teaching is t...   \n",
       "9314   6jgiqyw6E3o  Huge thank you to Ali for making this trip pos...   \n",
       "5311   zDiC8KexSRM  Phone are no longer compared by speed but by t...   \n",
       "7596   GlsFxbhWOS8       hey tanqr love the content tanqr Keep it Up!   \n",
       "3701   8JE0yOUAFmM  Yeah I've been able to withdraw my initial inv...   \n",
       "\n",
       "                                                   Title Published At  \\\n",
       "17884       Game development is hard | Indie Game Devlog   2022-08-13   \n",
       "5762   Google’s Most Advanced Robot Brain Just Got a ...   2022-08-21   \n",
       "949    Farming Simulator 22 #13 - Khi Xe Bán Tải Chở ...   2022-08-24   \n",
       "659    Americans Are Angry And Worried About U.S. Fut...   2022-08-21   \n",
       "250    Battle Of The Tech - Super Bike Vs World Super...   2022-07-31   \n",
       "...                                                  ...          ...   \n",
       "14033                   Cell Biology | DNA Replication 🧬   2021-03-29   \n",
       "9314   Cooking Entire YAK!! Pakistani Mountain Food i...   2022-07-10   \n",
       "5311   Elon Musk&#39;s ALL NEW Phone Just DESTROYED A...   2022-08-02   \n",
       "7596      I built a FAKE Bed Defense in Roblox Bedwars..   2021-06-27   \n",
       "3701   48 HOURS UNTIL THE CRYPTO MARKET &quot;KNOWS!&...   2022-08-24   \n",
       "\n",
       "                Keyword     Likes  Comments      Views  Sentiment  \n",
       "17884  game development   25476.0    1892.0   512978.0        2.0  \n",
       "5762             google    3823.0     444.0   212395.0        1.0  \n",
       "949              gaming    2501.0     193.0    84565.0        1.0  \n",
       "659                news     510.0     560.0    34715.0        0.0  \n",
       "250                tech    1289.0     183.0    35948.0        1.0  \n",
       "...                 ...       ...       ...        ...        ...  \n",
       "14033           biology   13733.0     626.0   489332.0        1.0  \n",
       "9314               food   44713.0    2725.0  1186255.0        2.0  \n",
       "5311              apple    3908.0      61.0   174482.0        1.0  \n",
       "7596                bed  135484.0    4557.0  5301271.0        2.0  \n",
       "3701             crypto     431.0     154.0     4247.0        2.0  \n",
       "\n",
       "[4484 rows x 9 columns]"
      ]
     },
     "execution_count": 46,
     "metadata": {},
     "output_type": "execute_result"
    }
   ],
   "source": [
    "comment_test"
   ]
  },
  {
   "cell_type": "code",
   "execution_count": 47,
   "metadata": {},
   "outputs": [],
   "source": [
    "res=comment_test.groupby('Video ID')['Likes','Views','Sentiment'].agg(['mean'])"
   ]
  },
  {
   "cell_type": "code",
   "execution_count": 48,
   "metadata": {},
   "outputs": [
    {
     "data": {
      "text/html": [
       "<div>\n",
       "<style scoped>\n",
       "    .dataframe tbody tr th:only-of-type {\n",
       "        vertical-align: middle;\n",
       "    }\n",
       "\n",
       "    .dataframe tbody tr th {\n",
       "        vertical-align: top;\n",
       "    }\n",
       "\n",
       "    .dataframe thead tr th {\n",
       "        text-align: left;\n",
       "    }\n",
       "\n",
       "    .dataframe thead tr:last-of-type th {\n",
       "        text-align: right;\n",
       "    }\n",
       "</style>\n",
       "<table border=\"1\" class=\"dataframe\">\n",
       "  <thead>\n",
       "    <tr>\n",
       "      <th></th>\n",
       "      <th>Likes</th>\n",
       "      <th>Views</th>\n",
       "      <th>Sentiment</th>\n",
       "    </tr>\n",
       "    <tr>\n",
       "      <th></th>\n",
       "      <th>mean</th>\n",
       "      <th>mean</th>\n",
       "      <th>mean</th>\n",
       "    </tr>\n",
       "    <tr>\n",
       "      <th>Video ID</th>\n",
       "      <th></th>\n",
       "      <th></th>\n",
       "      <th></th>\n",
       "    </tr>\n",
       "  </thead>\n",
       "  <tbody>\n",
       "    <tr>\n",
       "      <th>--hxd1CrOqg</th>\n",
       "      <td>6379.0</td>\n",
       "      <td>808787.0</td>\n",
       "      <td>0.000000</td>\n",
       "    </tr>\n",
       "    <tr>\n",
       "      <th>--ixiTypG8g</th>\n",
       "      <td>1029.0</td>\n",
       "      <td>97434.0</td>\n",
       "      <td>0.750000</td>\n",
       "    </tr>\n",
       "    <tr>\n",
       "      <th>-6IgkG5yZfo</th>\n",
       "      <td>10959.0</td>\n",
       "      <td>844015.0</td>\n",
       "      <td>2.000000</td>\n",
       "    </tr>\n",
       "    <tr>\n",
       "      <th>-7hzaGya86g</th>\n",
       "      <td>18957.0</td>\n",
       "      <td>702174.0</td>\n",
       "      <td>1.333333</td>\n",
       "    </tr>\n",
       "    <tr>\n",
       "      <th>-8TnsjDRXUE</th>\n",
       "      <td>3232.0</td>\n",
       "      <td>188875.0</td>\n",
       "      <td>2.000000</td>\n",
       "    </tr>\n",
       "    <tr>\n",
       "      <th>...</th>\n",
       "      <td>...</td>\n",
       "      <td>...</td>\n",
       "      <td>...</td>\n",
       "    </tr>\n",
       "    <tr>\n",
       "      <th>zg9ih6SVACc</th>\n",
       "      <td>22667.0</td>\n",
       "      <td>939411.0</td>\n",
       "      <td>1.333333</td>\n",
       "    </tr>\n",
       "    <tr>\n",
       "      <th>zhUnEg0he4A</th>\n",
       "      <td>39868.0</td>\n",
       "      <td>2797148.0</td>\n",
       "      <td>1.500000</td>\n",
       "    </tr>\n",
       "    <tr>\n",
       "      <th>zukfAqA_X4U</th>\n",
       "      <td>10725.0</td>\n",
       "      <td>155562.0</td>\n",
       "      <td>2.000000</td>\n",
       "    </tr>\n",
       "    <tr>\n",
       "      <th>zvS8Fmxv1_U</th>\n",
       "      <td>1167.0</td>\n",
       "      <td>235019.0</td>\n",
       "      <td>1.000000</td>\n",
       "    </tr>\n",
       "    <tr>\n",
       "      <th>zzUn1prQ5Ps</th>\n",
       "      <td>6164.0</td>\n",
       "      <td>386949.0</td>\n",
       "      <td>1.000000</td>\n",
       "    </tr>\n",
       "  </tbody>\n",
       "</table>\n",
       "<p>1425 rows × 3 columns</p>\n",
       "</div>"
      ],
      "text/plain": [
       "               Likes      Views Sentiment\n",
       "                mean       mean      mean\n",
       "Video ID                                 \n",
       "--hxd1CrOqg   6379.0   808787.0  0.000000\n",
       "--ixiTypG8g   1029.0    97434.0  0.750000\n",
       "-6IgkG5yZfo  10959.0   844015.0  2.000000\n",
       "-7hzaGya86g  18957.0   702174.0  1.333333\n",
       "-8TnsjDRXUE   3232.0   188875.0  2.000000\n",
       "...              ...        ...       ...\n",
       "zg9ih6SVACc  22667.0   939411.0  1.333333\n",
       "zhUnEg0he4A  39868.0  2797148.0  1.500000\n",
       "zukfAqA_X4U  10725.0   155562.0  2.000000\n",
       "zvS8Fmxv1_U   1167.0   235019.0  1.000000\n",
       "zzUn1prQ5Ps   6164.0   386949.0  1.000000\n",
       "\n",
       "[1425 rows x 3 columns]"
      ]
     },
     "execution_count": 48,
     "metadata": {},
     "output_type": "execute_result"
    }
   ],
   "source": [
    "res"
   ]
  },
  {
   "cell_type": "code",
   "execution_count": 49,
   "metadata": {},
   "outputs": [
    {
     "data": {
      "text/html": [
       "<div>\n",
       "<style scoped>\n",
       "    .dataframe tbody tr th:only-of-type {\n",
       "        vertical-align: middle;\n",
       "    }\n",
       "\n",
       "    .dataframe tbody tr th {\n",
       "        vertical-align: top;\n",
       "    }\n",
       "\n",
       "    .dataframe thead tr th {\n",
       "        text-align: left;\n",
       "    }\n",
       "</style>\n",
       "<table border=\"1\" class=\"dataframe\">\n",
       "  <thead>\n",
       "    <tr>\n",
       "      <th></th>\n",
       "      <th></th>\n",
       "      <th>Likes</th>\n",
       "      <th>Views</th>\n",
       "      <th>Sentiment</th>\n",
       "    </tr>\n",
       "    <tr>\n",
       "      <th></th>\n",
       "      <th></th>\n",
       "      <th>mean</th>\n",
       "      <th>mean</th>\n",
       "      <th>mean</th>\n",
       "    </tr>\n",
       "  </thead>\n",
       "  <tbody>\n",
       "    <tr>\n",
       "      <th>Likes</th>\n",
       "      <th>mean</th>\n",
       "      <td>1.000000</td>\n",
       "      <td>0.783318</td>\n",
       "      <td>0.071506</td>\n",
       "    </tr>\n",
       "    <tr>\n",
       "      <th>Views</th>\n",
       "      <th>mean</th>\n",
       "      <td>0.783318</td>\n",
       "      <td>1.000000</td>\n",
       "      <td>0.065336</td>\n",
       "    </tr>\n",
       "    <tr>\n",
       "      <th>Sentiment</th>\n",
       "      <th>mean</th>\n",
       "      <td>0.071506</td>\n",
       "      <td>0.065336</td>\n",
       "      <td>1.000000</td>\n",
       "    </tr>\n",
       "  </tbody>\n",
       "</table>\n",
       "</div>"
      ],
      "text/plain": [
       "                   Likes     Views Sentiment\n",
       "                    mean      mean      mean\n",
       "Likes     mean  1.000000  0.783318  0.071506\n",
       "Views     mean  0.783318  1.000000  0.065336\n",
       "Sentiment mean  0.071506  0.065336  1.000000"
      ]
     },
     "execution_count": 49,
     "metadata": {},
     "output_type": "execute_result"
    }
   ],
   "source": [
    "res.corr()"
   ]
  },
  {
   "cell_type": "code",
   "execution_count": 50,
   "metadata": {},
   "outputs": [],
   "source": [
    "res.columns=['Likes','Views','Sentiment']"
   ]
  },
  {
   "cell_type": "code",
   "execution_count": 51,
   "metadata": {},
   "outputs": [
    {
     "data": {
      "image/png": "[encoded data removed]",
      "text/plain": [
       "<Figure size 432x288 with 1 Axes>"
      ]
     },
     "metadata": {},
     "output_type": "display_data"
    }
   ],
   "source": [
    "sns.histplot(res['Sentiment'])\n",
    "plt.show()"
   ]
  },
  {
   "cell_type": "code",
   "execution_count": 52,
   "metadata": {},
   "outputs": [
    {
     "data": {
      "image/png": "[encoded data removed]",
      "text/plain": [
       "<Figure size 432x288 with 1 Axes>"
      ]
     },
     "metadata": {},
     "output_type": "display_data"
    }
   ],
   "source": [
    "sns.scatterplot(data=res,x='Likes',y='Sentiment',hue='Sentiment')\n",
    "plt.show()"
   ]
  },
  {
   "cell_type": "code",
   "execution_count": 53,
   "metadata": {},
   "outputs": [
    {
     "data": {
      "image/png": "[encoded data removed]",
      "text/plain": [
       "<Figure size 432x288 with 1 Axes>"
      ]
     },
     "metadata": {},
     "output_type": "display_data"
    }
   ],
   "source": [
    "sns.scatterplot(data=res,x='Views',y='Sentiment',hue='Sentiment')\n",
    "plt.show()"
   ]
  },
  {
   "cell_type": "code",
   "execution_count": 54,
   "metadata": {},
   "outputs": [
    {
     "data": {
      "text/html": [
       "<div>\n",
       "<style scoped>\n",
       "    .dataframe tbody tr th:only-of-type {\n",
       "        vertical-align: middle;\n",
       "    }\n",
       "\n",
       "    .dataframe tbody tr th {\n",
       "        vertical-align: top;\n",
       "    }\n",
       "\n",
       "    .dataframe thead th {\n",
       "        text-align: right;\n",
       "    }\n",
       "</style>\n",
       "<table border=\"1\" class=\"dataframe\">\n",
       "  <thead>\n",
       "    <tr style=\"text-align: right;\">\n",
       "      <th></th>\n",
       "      <th>Likes</th>\n",
       "      <th>Views</th>\n",
       "      <th>Sentiment</th>\n",
       "    </tr>\n",
       "    <tr>\n",
       "      <th>Video ID</th>\n",
       "      <th></th>\n",
       "      <th></th>\n",
       "      <th></th>\n",
       "    </tr>\n",
       "  </thead>\n",
       "  <tbody>\n",
       "    <tr>\n",
       "      <th>--hxd1CrOqg</th>\n",
       "      <td>6379.0</td>\n",
       "      <td>808787.0</td>\n",
       "      <td>0.000000</td>\n",
       "    </tr>\n",
       "    <tr>\n",
       "      <th>--ixiTypG8g</th>\n",
       "      <td>1029.0</td>\n",
       "      <td>97434.0</td>\n",
       "      <td>0.750000</td>\n",
       "    </tr>\n",
       "    <tr>\n",
       "      <th>-6IgkG5yZfo</th>\n",
       "      <td>10959.0</td>\n",
       "      <td>844015.0</td>\n",
       "      <td>2.000000</td>\n",
       "    </tr>\n",
       "    <tr>\n",
       "      <th>-7hzaGya86g</th>\n",
       "      <td>18957.0</td>\n",
       "      <td>702174.0</td>\n",
       "      <td>1.333333</td>\n",
       "    </tr>\n",
       "    <tr>\n",
       "      <th>-8TnsjDRXUE</th>\n",
       "      <td>3232.0</td>\n",
       "      <td>188875.0</td>\n",
       "      <td>2.000000</td>\n",
       "    </tr>\n",
       "    <tr>\n",
       "      <th>...</th>\n",
       "      <td>...</td>\n",
       "      <td>...</td>\n",
       "      <td>...</td>\n",
       "    </tr>\n",
       "    <tr>\n",
       "      <th>zg9ih6SVACc</th>\n",
       "      <td>22667.0</td>\n",
       "      <td>939411.0</td>\n",
       "      <td>1.333333</td>\n",
       "    </tr>\n",
       "    <tr>\n",
       "      <th>zhUnEg0he4A</th>\n",
       "      <td>39868.0</td>\n",
       "      <td>2797148.0</td>\n",
       "      <td>1.500000</td>\n",
       "    </tr>\n",
       "    <tr>\n",
       "      <th>zukfAqA_X4U</th>\n",
       "      <td>10725.0</td>\n",
       "      <td>155562.0</td>\n",
       "      <td>2.000000</td>\n",
       "    </tr>\n",
       "    <tr>\n",
       "      <th>zvS8Fmxv1_U</th>\n",
       "      <td>1167.0</td>\n",
       "      <td>235019.0</td>\n",
       "      <td>1.000000</td>\n",
       "    </tr>\n",
       "    <tr>\n",
       "      <th>zzUn1prQ5Ps</th>\n",
       "      <td>6164.0</td>\n",
       "      <td>386949.0</td>\n",
       "      <td>1.000000</td>\n",
       "    </tr>\n",
       "  </tbody>\n",
       "</table>\n",
       "<p>1425 rows × 3 columns</p>\n",
       "</div>"
      ],
      "text/plain": [
       "               Likes      Views  Sentiment\n",
       "Video ID                                  \n",
       "--hxd1CrOqg   6379.0   808787.0   0.000000\n",
       "--ixiTypG8g   1029.0    97434.0   0.750000\n",
       "-6IgkG5yZfo  10959.0   844015.0   2.000000\n",
       "-7hzaGya86g  18957.0   702174.0   1.333333\n",
       "-8TnsjDRXUE   3232.0   188875.0   2.000000\n",
       "...              ...        ...        ...\n",
       "zg9ih6SVACc  22667.0   939411.0   1.333333\n",
       "zhUnEg0he4A  39868.0  2797148.0   1.500000\n",
       "zukfAqA_X4U  10725.0   155562.0   2.000000\n",
       "zvS8Fmxv1_U   1167.0   235019.0   1.000000\n",
       "zzUn1prQ5Ps   6164.0   386949.0   1.000000\n",
       "\n",
       "[1425 rows x 3 columns]"
      ]
     },
     "execution_count": 54,
     "metadata": {},
     "output_type": "execute_result"
    }
   ],
   "source": [
    "res"
   ]
  },
  {
   "cell_type": "code",
   "execution_count": 55,
   "metadata": {},
   "outputs": [
    {
     "data": {
      "text/plain": [
       "<seaborn.axisgrid.FacetGrid at 0x7fdd1299c6d0>"
      ]
     },
     "execution_count": 55,
     "metadata": {},
     "output_type": "execute_result"
    },
    {
     "data": {
      "image/png": "[encoded data removed]",
      "text/plain": [
       "<Figure size 360x360 with 1 Axes>"
      ]
     },
     "metadata": {},
     "output_type": "display_data"
    }
   ],
   "source": [
    "sns.lmplot(data=res,x='Likes',y='Sentiment')"
   ]
  },
  {
   "cell_type": "code",
   "execution_count": 56,
   "metadata": {},
   "outputs": [
    {
     "data": {
      "text/plain": [
       "<seaborn.axisgrid.FacetGrid at 0x7fdd014e0eb0>"
      ]
     },
     "execution_count": 56,
     "metadata": {},
     "output_type": "execute_result"
    },
    {
     "data": {
      "image/png": "[encoded data removed]",
      "text/plain": [
       "<Figure size 360x360 with 1 Axes>"
      ]
     },
     "metadata": {},
     "output_type": "display_data"
    }
   ],
   "source": [
    "sns.lmplot(data=res,x='Views',y='Sentiment')"
   ]
  },
  {
   "cell_type": "code",
   "execution_count": 57,
   "metadata": {},
   "outputs": [],
   "source": [
    "res.reset_index(inplace=True)\n",
    "res['like_ratio'] = 1000 * (videos_stats['Likes'] / videos_stats['Views'])"
   ]
  },
  {
   "cell_type": "code",
   "execution_count": 58,
   "metadata": {},
   "outputs": [
    {
     "data": {
      "text/plain": [
       "<AxesSubplot:xlabel='Sentiment', ylabel='like_ratio'>"
      ]
     },
     "execution_count": 58,
     "metadata": {},
     "output_type": "execute_result"
    },
    {
     "data": {
      "image/png": "[encoded data removed]",
      "text/plain": [
       "<Figure size 432x288 with 1 Axes>"
      ]
     },
     "metadata": {},
     "output_type": "display_data"
    }
   ],
   "source": [
    "sns.regplot(data=res, x='Sentiment', y='like_ratio')"
   ]
  },
  {
   "cell_type": "code",
   "execution_count": 59,
   "metadata": {},
   "outputs": [
    {
     "data": {
      "text/html": [
       "<div>\n",
       "<style scoped>\n",
       "    .dataframe tbody tr th:only-of-type {\n",
       "        vertical-align: middle;\n",
       "    }\n",
       "\n",
       "    .dataframe tbody tr th {\n",
       "        vertical-align: top;\n",
       "    }\n",
       "\n",
       "    .dataframe thead th {\n",
       "        text-align: right;\n",
       "    }\n",
       "</style>\n",
       "<table border=\"1\" class=\"dataframe\">\n",
       "  <thead>\n",
       "    <tr style=\"text-align: right;\">\n",
       "      <th></th>\n",
       "      <th>Video ID</th>\n",
       "      <th>Likes</th>\n",
       "      <th>Views</th>\n",
       "      <th>Sentiment</th>\n",
       "      <th>like_ratio</th>\n",
       "    </tr>\n",
       "  </thead>\n",
       "  <tbody>\n",
       "    <tr>\n",
       "      <th>0</th>\n",
       "      <td>--hxd1CrOqg</td>\n",
       "      <td>6379.0</td>\n",
       "      <td>808787.0</td>\n",
       "      <td>0.000000</td>\n",
       "      <td>25.123145</td>\n",
       "    </tr>\n",
       "    <tr>\n",
       "      <th>1</th>\n",
       "      <td>--ixiTypG8g</td>\n",
       "      <td>1029.0</td>\n",
       "      <td>97434.0</td>\n",
       "      <td>0.750000</td>\n",
       "      <td>43.672496</td>\n",
       "    </tr>\n",
       "    <tr>\n",
       "      <th>2</th>\n",
       "      <td>-6IgkG5yZfo</td>\n",
       "      <td>10959.0</td>\n",
       "      <td>844015.0</td>\n",
       "      <td>2.000000</td>\n",
       "      <td>40.808641</td>\n",
       "    </tr>\n",
       "    <tr>\n",
       "      <th>3</th>\n",
       "      <td>-7hzaGya86g</td>\n",
       "      <td>18957.0</td>\n",
       "      <td>702174.0</td>\n",
       "      <td>1.333333</td>\n",
       "      <td>77.543184</td>\n",
       "    </tr>\n",
       "    <tr>\n",
       "      <th>4</th>\n",
       "      <td>-8TnsjDRXUE</td>\n",
       "      <td>3232.0</td>\n",
       "      <td>188875.0</td>\n",
       "      <td>2.000000</td>\n",
       "      <td>52.010515</td>\n",
       "    </tr>\n",
       "    <tr>\n",
       "      <th>...</th>\n",
       "      <td>...</td>\n",
       "      <td>...</td>\n",
       "      <td>...</td>\n",
       "      <td>...</td>\n",
       "      <td>...</td>\n",
       "    </tr>\n",
       "    <tr>\n",
       "      <th>1420</th>\n",
       "      <td>zg9ih6SVACc</td>\n",
       "      <td>22667.0</td>\n",
       "      <td>939411.0</td>\n",
       "      <td>1.333333</td>\n",
       "      <td>26.965213</td>\n",
       "    </tr>\n",
       "    <tr>\n",
       "      <th>1421</th>\n",
       "      <td>zhUnEg0he4A</td>\n",
       "      <td>39868.0</td>\n",
       "      <td>2797148.0</td>\n",
       "      <td>1.500000</td>\n",
       "      <td>10.072024</td>\n",
       "    </tr>\n",
       "    <tr>\n",
       "      <th>1422</th>\n",
       "      <td>zukfAqA_X4U</td>\n",
       "      <td>10725.0</td>\n",
       "      <td>155562.0</td>\n",
       "      <td>2.000000</td>\n",
       "      <td>16.705893</td>\n",
       "    </tr>\n",
       "    <tr>\n",
       "      <th>1423</th>\n",
       "      <td>zvS8Fmxv1_U</td>\n",
       "      <td>1167.0</td>\n",
       "      <td>235019.0</td>\n",
       "      <td>1.000000</td>\n",
       "      <td>46.847556</td>\n",
       "    </tr>\n",
       "    <tr>\n",
       "      <th>1424</th>\n",
       "      <td>zzUn1prQ5Ps</td>\n",
       "      <td>6164.0</td>\n",
       "      <td>386949.0</td>\n",
       "      <td>1.000000</td>\n",
       "      <td>9.886998</td>\n",
       "    </tr>\n",
       "  </tbody>\n",
       "</table>\n",
       "<p>1425 rows × 5 columns</p>\n",
       "</div>"
      ],
      "text/plain": [
       "         Video ID    Likes      Views  Sentiment  like_ratio\n",
       "0     --hxd1CrOqg   6379.0   808787.0   0.000000   25.123145\n",
       "1     --ixiTypG8g   1029.0    97434.0   0.750000   43.672496\n",
       "2     -6IgkG5yZfo  10959.0   844015.0   2.000000   40.808641\n",
       "3     -7hzaGya86g  18957.0   702174.0   1.333333   77.543184\n",
       "4     -8TnsjDRXUE   3232.0   188875.0   2.000000   52.010515\n",
       "...           ...      ...        ...        ...         ...\n",
       "1420  zg9ih6SVACc  22667.0   939411.0   1.333333   26.965213\n",
       "1421  zhUnEg0he4A  39868.0  2797148.0   1.500000   10.072024\n",
       "1422  zukfAqA_X4U  10725.0   155562.0   2.000000   16.705893\n",
       "1423  zvS8Fmxv1_U   1167.0   235019.0   1.000000   46.847556\n",
       "1424  zzUn1prQ5Ps   6164.0   386949.0   1.000000    9.886998\n",
       "\n",
       "[1425 rows x 5 columns]"
      ]
     },
     "execution_count": 59,
     "metadata": {},
     "output_type": "execute_result"
    }
   ],
   "source": [
    "res"
   ]
  },
  {
   "cell_type": "code",
   "execution_count": 60,
   "metadata": {},
   "outputs": [
    {
     "data": {
      "text/html": [
       "<div>\n",
       "<style scoped>\n",
       "    .dataframe tbody tr th:only-of-type {\n",
       "        vertical-align: middle;\n",
       "    }\n",
       "\n",
       "    .dataframe tbody tr th {\n",
       "        vertical-align: top;\n",
       "    }\n",
       "\n",
       "    .dataframe thead th {\n",
       "        text-align: right;\n",
       "    }\n",
       "</style>\n",
       "<table border=\"1\" class=\"dataframe\">\n",
       "  <thead>\n",
       "    <tr style=\"text-align: right;\">\n",
       "      <th></th>\n",
       "      <th>Likes</th>\n",
       "      <th>Views</th>\n",
       "      <th>Sentiment</th>\n",
       "      <th>like_ratio</th>\n",
       "    </tr>\n",
       "  </thead>\n",
       "  <tbody>\n",
       "    <tr>\n",
       "      <th>Likes</th>\n",
       "      <td>1.000000</td>\n",
       "      <td>0.783318</td>\n",
       "      <td>0.071506</td>\n",
       "      <td>-0.010346</td>\n",
       "    </tr>\n",
       "    <tr>\n",
       "      <th>Views</th>\n",
       "      <td>0.783318</td>\n",
       "      <td>1.000000</td>\n",
       "      <td>0.065336</td>\n",
       "      <td>0.000050</td>\n",
       "    </tr>\n",
       "    <tr>\n",
       "      <th>Sentiment</th>\n",
       "      <td>0.071506</td>\n",
       "      <td>0.065336</td>\n",
       "      <td>1.000000</td>\n",
       "      <td>-0.007493</td>\n",
       "    </tr>\n",
       "    <tr>\n",
       "      <th>like_ratio</th>\n",
       "      <td>-0.010346</td>\n",
       "      <td>0.000050</td>\n",
       "      <td>-0.007493</td>\n",
       "      <td>1.000000</td>\n",
       "    </tr>\n",
       "  </tbody>\n",
       "</table>\n",
       "</div>"
      ],
      "text/plain": [
       "               Likes     Views  Sentiment  like_ratio\n",
       "Likes       1.000000  0.783318   0.071506   -0.010346\n",
       "Views       0.783318  1.000000   0.065336    0.000050\n",
       "Sentiment   0.071506  0.065336   1.000000   -0.007493\n",
       "like_ratio -0.010346  0.000050  -0.007493    1.000000"
      ]
     },
     "execution_count": 60,
     "metadata": {},
     "output_type": "execute_result"
    }
   ],
   "source": [
    "res.corr()"
   ]
  },
  {
   "cell_type": "code",
   "execution_count": null,
   "metadata": {},
   "outputs": [],
   "source": []
  }
 ],
 "metadata": {
  "kernelspec": {
   "display_name": "Python 3 (ipykernel)",
   "language": "python",
   "name": "python3"
  },
  "language_info": {
   "codemirror_mode": {
    "name": "ipython",
    "version": 3
   },
   "file_extension": ".py",
   "mimetype": "text/x-python",
   "name": "python",
   "nbconvert_exporter": "python",
   "pygments_lexer": "ipython3",
   "version": "3.9.12"
  }
 },
 "nbformat": 4,
 "nbformat_minor": 4
}
